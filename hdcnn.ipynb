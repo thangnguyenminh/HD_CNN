{
 "cells": [
  {
   "cell_type": "markdown",
   "metadata": {},
   "source": [
    "# Hierarchically Deep Convolutional Neural Network For Image Recognition"
   ]
  },
  {
   "cell_type": "markdown",
   "metadata": {},
   "source": [
    "## Setup and Imports"
   ]
  },
  {
   "cell_type": "markdown",
   "metadata": {},
   "source": [
    "**Import Packages**"
   ]
  },
  {
   "cell_type": "code",
   "execution_count": 1,
   "metadata": {},
   "outputs": [
    {
     "name": "stderr",
     "output_type": "stream",
     "text": [
      "/usr/local/lib/python2.7/dist-packages/h5py/__init__.py:36: FutureWarning: Conversion of the second argument of issubdtype from `float` to `np.floating` is deprecated. In future, it will be treated as `np.float64 == np.dtype(float).type`.\n",
      "  from ._conv import register_converters as _register_converters\n",
      "Using TensorFlow backend.\n"
     ]
    }
   ],
   "source": [
    "import keras as kr\n",
    "import numpy as np\n",
    "import tensorflow as tf\n",
    "from keras import backend as K\n",
    "from keras.utils import np_utils\n",
    "\n",
    "from keras.datasets import cifar100\n",
    "\n",
    "from sklearn.model_selection import train_test_split\n",
    "import cv2 \n",
    "\n",
    "from random import randint\n",
    "import time\n",
    "import os\n",
    "\n",
    "import matplotlib.pyplot as plt"
   ]
  },
  {
   "cell_type": "code",
   "execution_count": 2,
   "metadata": {},
   "outputs": [],
   "source": [
    "from keras.backend.tensorflow_backend import set_session\n",
    "import tensorflow as tf\n",
    "config = tf.ConfigProto()\n",
    "config.gpu_options.allow_growth = True  # Don't pre-allocate memory; allocate as-needed\n",
    "config.log_device_placement = True  # to log device placement (on which device the operation ran)\n",
    "#config.gpu_options.per_process_gpu_memory_fraction = 0.3 # Only allow a total fraction the GPU memory to be allocated\n",
    "sess = tf.Session(config=config)\n",
    "set_session(sess)  # set this TensorFlow session as the default session for Keras"
   ]
  },
  {
   "cell_type": "code",
   "execution_count": 3,
   "metadata": {},
   "outputs": [],
   "source": [
    "if not os.path.exists('data/models/'):\n",
    "    os.mkdir('data/models')"
   ]
  },
  {
   "cell_type": "markdown",
   "metadata": {},
   "source": [
    "**Define Global Variables**"
   ]
  },
  {
   "cell_type": "code",
   "execution_count": 4,
   "metadata": {},
   "outputs": [],
   "source": [
    "GGN = True\n",
    "\n",
    "# The number of coarse categories\n",
    "coarse_categories = 20\n",
    "\n",
    "# The number of fine categories\n",
    "fine_categories = 61"
   ]
  },
  {
   "cell_type": "markdown",
   "metadata": {},
   "source": [
    "## Import and Preprocess Dataset"
   ]
  },
  {
   "cell_type": "markdown",
   "metadata": {},
   "source": [
    "**Import Cifar100 Data Set**"
   ]
  },
  {
   "cell_type": "code",
   "execution_count": 5,
   "metadata": {},
   "outputs": [],
   "source": [
    "# (X, y_c), (x_test, y_c_test) = cifar100.load_data(label_mode='coarse')\n",
    "# (X, y), (x_test, y_test) = cifar100.load_data(label_mode='fine')"
   ]
  },
  {
   "cell_type": "markdown",
   "metadata": {},
   "source": [
    "**Import Cham Data Set**"
   ]
  },
  {
   "cell_type": "code",
   "execution_count": 6,
   "metadata": {},
   "outputs": [],
   "source": [
    "X = np.load(\"dataset/train_feature.npy\")\n",
    "y = np.load(\"dataset/train_label.npy\")\n",
    "y_c = np.load(\"dataset/train_label_coarse.npy\")\n",
    "\n",
    "x_test = np.load(\"dataset/test_feature.npy\")\n",
    "y_test = np.load(\"dataset/test_label.npy\")\n",
    "y_c_test = np.load(\"dataset/test_label_coarse.npy\")"
   ]
  },
  {
   "cell_type": "markdown",
   "metadata": {},
   "source": [
    "**Fine-To-Coarse Mapping**\n",
    "\n",
    "(Ideally, this would be done through spectral clustering as opposed to hard-coding)"
   ]
  },
  {
   "cell_type": "code",
   "execution_count": 7,
   "metadata": {},
   "outputs": [],
   "source": [
    "fine2coarse = np.zeros((fine_categories,coarse_categories))\n",
    "for i in range(coarse_categories):\n",
    "    index = np.where(y_c_test[:,0] == i)[0]\n",
    "    fine_cat = np.unique([y_test[j,0] for j in index])\n",
    "    if len(index) == 0:\n",
    "        print i\n",
    "    for j in fine_cat:\n",
    "        fine2coarse[j,i] = 1\n"
   ]
  },
  {
   "cell_type": "code",
   "execution_count": 8,
   "metadata": {},
   "outputs": [],
   "source": [
    "y_c = 0; # Clear y_c in interest of saving mem\n",
    "y_c_test=0;"
   ]
  },
  {
   "cell_type": "code",
   "execution_count": 9,
   "metadata": {},
   "outputs": [],
   "source": [
    "################################################################################\n",
    "#    Title: One Hot Encoding\n",
    "################################################################################\n",
    "#    Description: \n",
    "#        This function extends a matrix to one-hot encoding\n",
    "#    \n",
    "#    Parameters:\n",
    "#        y    Array of label values\n",
    "# \n",
    "#    Returns:\n",
    "#        y_new    One hot encoded array of labels\n",
    "################################################################################\n",
    "def one_hot(y):\n",
    "    n_values = np.max(y) + 1\n",
    "    y_new = np.eye(n_values)[y[:,0]]\n",
    "    return y_new"
   ]
  },
  {
   "cell_type": "code",
   "execution_count": 10,
   "metadata": {},
   "outputs": [
    {
     "name": "stdout",
     "output_type": "stream",
     "text": [
      "(2359, 61)\n"
     ]
    }
   ],
   "source": [
    "y=one_hot(y)\n",
    "y_test=one_hot(y_test)\n",
    "print(np.shape(y))"
   ]
  },
  {
   "cell_type": "markdown",
   "metadata": {},
   "source": [
    "**Apply ZCA Whitening**"
   ]
  },
  {
   "cell_type": "code",
   "execution_count": null,
   "metadata": {},
   "outputs": [],
   "source": [
    "################################################################################\n",
    "#    Title: ZCA\n",
    "################################################################################\n",
    "#    Description: \n",
    "#        This function applies ZCA Whitening to the image set\n",
    "#    \n",
    "#    Parameters:\n",
    "#        x_1           Array of MxNxC images to compute the ZCA Whitening\n",
    "#        x_2           Array of MxNxC images to apply the ZCA transform\n",
    "#        num_batch    Number of batches to do the computation\n",
    "# \n",
    "#    Returns:\n",
    "#        An array of MxNxC zca whitened images\n",
    "################################################################################\n",
    "def zca(x_1, x_2, epsilon=1e-5):\n",
    "        \n",
    "    with tf.name_scope('ZCA'):\n",
    "        \n",
    "        x1 = tf.placeholder(tf.float64, shape=np.shape(x_1), name='placeholder_x1')\n",
    "        x2 = tf.placeholder(tf.float64, shape=np.shape(x_2), name='placeholder_x2')\n",
    "        \n",
    "        flatx = tf.cast(tf.reshape(x1, (-1, np.prod(x_1.shape[-3:])),name=\"reshape_flat\"),tf.float64,name=\"flatx\")\n",
    "        sigma = tf.tensordot(tf.transpose(flatx),flatx, 1,name=\"sigma\") / tf.cast(tf.shape(flatx)[0],tf.float64) ### N-1 or N?\n",
    "        s, u, v = tf.svd(sigma,name=\"svd\")\n",
    "        pc = tf.tensordot(tf.tensordot(u,tf.diag(1. / tf.sqrt(s+epsilon)),1,name=\"inner_dot\"),tf.transpose(u),1, name=\"pc\")\n",
    "        \n",
    "        net1 = tf.tensordot(flatx, pc,1,name=\"whiten1\")\n",
    "        net1 = tf.reshape(net1,np.shape(x_1), name=\"output1\")\n",
    "        \n",
    "        flatx2 = tf.cast(tf.reshape(x2, (-1, np.prod(x_2.shape[-3:])),name=\"reshape_flat2\"),tf.float64,name=\"flatx2\")\n",
    "        net2 = tf.tensordot(flatx2, pc,1,name=\"whiten2\")\n",
    "        net2 = tf.reshape(net2,np.shape(x_2), name=\"output2\")\n",
    "        \n",
    "    with tf.Session() as sess:\n",
    "            sess.run(tf.global_variables_initializer())\n",
    "            x_1,x_2 = sess.run([net1,net2], feed_dict={x1: x_1, x2: x_2})    \n",
    "    return x_1,x_2"
   ]
  },
  {
   "cell_type": "code",
   "execution_count": null,
   "metadata": {},
   "outputs": [],
   "source": [
    "time1 = time.time()\n",
    "X,x_test = zca(X,x_test)\n",
    "time2 = time.time()\n",
    "print('Time Elapsed - ZCA Whitening: '+str(time2-time1));"
   ]
  },
  {
   "cell_type": "markdown",
   "metadata": {},
   "source": [
    "**Split Training set into Training and Validation sets**"
   ]
  },
  {
   "cell_type": "code",
   "execution_count": 11,
   "metadata": {},
   "outputs": [],
   "source": [
    "x_train, x_val, y_train, y_val = train_test_split(X, y, test_size=.1, stratify=y, random_state=0)\n",
    "X = 0\n",
    "y = 0"
   ]
  },
  {
   "cell_type": "code",
   "execution_count": null,
   "metadata": {},
   "outputs": [],
   "source": [
    "def resize_cifar100_data(X_train, Y_train, X_valid, Y_valid, img_rows, img_cols):\n",
    "    \n",
    "    nb_train_samples = 3000 # 3000 training samples\n",
    "    nb_valid_samples = 100 # 100 validation samples\n",
    "    # Load cifar10 training and validation sets\n",
    "    # (X_train, Y_train), (X_valid, Y_valid) = cifar10.load_data()\n",
    "\n",
    "    # Resize trainging images\n",
    "    if K.image_dim_ordering() == 'th':\n",
    "        X_train = np.array([cv2.resize(img.transpose(1,2,0), (img_rows,img_cols)).transpose(2,0,1) for img in X_train[:nb_train_samples,:,:,:]])\n",
    "        X_valid = np.array([cv2.resize(img.transpose(1,2,0), (img_rows,img_cols)).transpose(2,0,1) for img in X_valid[:nb_valid_samples,:,:,:]])\n",
    "    else:=\n",
    "        X_train = np.array([cv2.resize(img, (img_rows,img_cols)) for img in X_train[:nb_train_samples,:,:,:]])\n",
    "        X_valid = np.array([cv2.resize(img, (img_rows,img_cols)) for img in X_valid[:nb_valid_samples,:,:,:]])\n",
    "\n",
    "    # Transform targets to keras compatible format\n",
    "#     Y_train = np_utils.to_categorical(Y_train[:], num_classes)\n",
    "#     Y_valid = np_utils.to_categorical(Y_valid[:], num_classes)\n",
    "    Y_train = Y_train[:nb_train_samples]\n",
    "    Y_valid = Y_valid[:nb_valid_samples]\n",
    "    \n",
    "    return X_train, Y_train, X_valid, Y_valid"
   ]
  },
  {
   "cell_type": "code",
   "execution_count": null,
   "metadata": {},
   "outputs": [],
   "source": [
    "# only for CIFAR100\n",
    "if GGN:\n",
    "    x_train, y_train, x_val, y_val = resize_cifar100_data(x_train, y_train, x_val, y_val, 224, 224)\n",
    "else:\n",
    "    x_train, y_train, x_val, y_val = resize_cifar100_data(x_train, y_train, x_val, y_val, 32, 32)"
   ]
  },
  {
   "cell_type": "markdown",
   "metadata": {},
   "source": [
    "**Flip, pad and randomly crop each photo**"
   ]
  },
  {
   "cell_type": "code",
   "execution_count": null,
   "metadata": {},
   "outputs": [],
   "source": [
    "################################################################################\n",
    "#    Title: Preprocess Img\n",
    "################################################################################\n",
    "#    Description: \n",
    "#        This function pads images by 4 pixels, randomly crops them, then\n",
    "#        randomly flips them\n",
    "#    \n",
    "#    Parameters:\n",
    "#        x_1           Array of MxNxC images to compute the ZCA Whitening\n",
    "#        x_2           Array of MxNxC images to apply the ZCA transform\n",
    "#        num_batch    Number of batches to do the computation\n",
    "# \n",
    "#    Returns:\n",
    "#        An array of MxNxC zca whitened images\n",
    "################################################################################\n",
    "def preprocess_img(X,y):\n",
    "        \n",
    "    with tf.name_scope('Preproc'):\n",
    "        \n",
    "        images = tf.placeholder(tf.float64, shape=np.shape(X))\n",
    "        labels = tf.placeholder(tf.float64, shape=np.shape(y))\n",
    "        \n",
    "        net = tf.map_fn(lambda img: tf.image.flip_left_right(img), images)\n",
    "        net = tf.map_fn(lambda img: tf.image.rot90(img), net)\n",
    "        net = tf.image.resize_image_with_crop_or_pad(net,40,40)\n",
    "        net = tf.map_fn(lambda img: tf.random_crop(img, [32,32,3]), net)\n",
    "\n",
    "        net1 = tf.image.resize_image_with_crop_or_pad(images,40,40)\n",
    "        net1 = tf.map_fn(lambda img: tf.random_crop(img, [32,32,3]), net1)\n",
    "        \n",
    "        net = tf.concat([net, net1],0)\n",
    "        net = tf.random_shuffle(net, seed=0)\n",
    "        net_labels = tf.concat([labels, labels],0)\n",
    "        net_labels = tf.random_shuffle(net_labels,seed=0)\n",
    "        \n",
    "        net = tf.map_fn(lambda img: tf.image.random_flip_up_down(img), net)\n",
    "        \n",
    "    with tf.Session() as sess:\n",
    "            sess.run(tf.global_variables_initializer())\n",
    "            x_t,y_t = sess.run([net,net_labels], feed_dict={images: X, labels: y})    \n",
    "    return x_t,y_t\n"
   ]
  },
  {
   "cell_type": "code",
   "execution_count": null,
   "metadata": {},
   "outputs": [],
   "source": [
    "time1 = time.time()\n",
    "x_train,y_train = preprocess_img(x_train,y_train)\n",
    "time2 = time.time()\n",
    "print('Time Elapsed - Img Preprocessing: '+str(time2-time1));"
   ]
  },
  {
   "cell_type": "markdown",
   "metadata": {},
   "source": [
    "## Single Classifier Training"
   ]
  },
  {
   "cell_type": "markdown",
   "metadata": {},
   "source": [
    "**Constructing CNN**"
   ]
  },
  {
   "cell_type": "code",
   "execution_count": 12,
   "metadata": {},
   "outputs": [],
   "source": [
    "from keras import optimizers\n",
    "from keras.layers import Input, Conv2D, Dropout, MaxPooling2D, Flatten, Dense\n",
    "from keras.models import Model\n",
    "\n",
    "# in_layer = Input(shape=(32, 32, 3), dtype='float32', name='main_input')\n",
    "\n",
    "# net = Conv2D(384, 3, strides=1, padding='same', activation='elu')(in_layer)\n",
    "# net = MaxPooling2D((2, 2), padding='valid')(net)\n",
    "\n",
    "# net = Conv2D(384, 1, strides=1, padding='same', activation='elu')(net)\n",
    "# net = Conv2D(384, 2, strides=1, padding='same', activation='elu')(net)\n",
    "# net = Conv2D(640, 2, strides=1, padding='same', activation='elu')(net)\n",
    "# net = Conv2D(640, 2, strides=1, padding='same', activation='elu')(net)\n",
    "# net = Dropout(.2)(net)\n",
    "# net = MaxPooling2D((2, 2), padding='valid')(net)\n",
    "\n",
    "# net = Conv2D(640, 1, strides=1, padding='same', activation='elu')(net)\n",
    "# net = Conv2D(768, 2, strides=1, padding='same', activation='elu')(net)\n",
    "# net = Conv2D(768, 2, strides=1, padding='same', activation='elu')(net)\n",
    "# net = Conv2D(768, 2, strides=1, padding='same', activation='elu')(net)\n",
    "# net = Dropout(.3)(net)\n",
    "# net = MaxPooling2D((2, 2), padding='valid')(net)\n",
    "\n",
    "# net = Conv2D(768, 1, strides=1, padding='same', activation='elu')(net)\n",
    "# net = Conv2D(896, 2, strides=1, padding='same', activation='elu')(net)\n",
    "# net = Conv2D(896, 2, strides=1, padding='same', activation='elu')(net)\n",
    "# net = Dropout(.4)(net)\n",
    "# net = MaxPooling2D((2, 2), padding='valid')(net)\n",
    "\n",
    "# net = Conv2D(896, 3, strides=1, padding='same', activation='elu')(net)\n",
    "# net = Conv2D(1024, 2, strides=1, padding='same', activation='elu')(net)\n",
    "# net = Conv2D(1024, 2, strides=1, padding='same', activation='elu')(net)\n",
    "# net = Dropout(.5)(net)\n",
    "# net = MaxPooling2D((2, 2), padding='valid')(net)\n",
    "\n",
    "# net = Conv2D(1024, 1, strides=1, padding='same', activation='elu')(net)\n",
    "# net = Conv2D(1152, 2, strides=1, padding='same', activation='elu')(net)\n",
    "# net = Dropout(.6)(net)\n",
    "# net = MaxPooling2D((2, 2), padding='same')(net)\n",
    "\n",
    "# net = Flatten()(net)\n",
    "# net = Dense(1152, activation='elu')(net)\n",
    "# net = Dense(100, activation='softmax')(net)"
   ]
  },
  {
   "cell_type": "markdown",
   "metadata": {},
   "source": [
    "**Compile Model**"
   ]
  },
  {
   "cell_type": "code",
   "execution_count": 13,
   "metadata": {},
   "outputs": [],
   "source": [
    "if GGN: \n",
    "    # Inception v1\n",
    "    from inception_v1 import InceptionV1\n",
    "    in_layer, net, model = InceptionV1(weights=None,classes=fine_categories) # classes = sum of all fine classes\n",
    "else:\n",
    "    # NiN\n",
    "    model = Model(inputs=in_layer,outputs=net)\n",
    "    \n",
    "sgd_coarse = optimizers.SGD(lr=0.01, decay=1e-6, momentum=0.9, nesterov=True)\n",
    "model.compile(optimizer= sgd_coarse, loss='categorical_crossentropy', metrics=['accuracy'])"
   ]
  },
  {
   "cell_type": "code",
   "execution_count": null,
   "metadata": {},
   "outputs": [],
   "source": [
    "#model.load_weights('data/models/model_coarse'+str(30)+'.model')"
   ]
  },
  {
   "cell_type": "markdown",
   "metadata": {},
   "source": [
    "# Training history visualization"
   ]
  },
  {
   "cell_type": "code",
   "execution_count": 14,
   "metadata": {},
   "outputs": [],
   "source": [
    "def train_histo_vis(history):\n",
    "    acc = history.history['acc']\n",
    "    val_acc = history.history['val_acc']\n",
    "    loss = history.history['loss']\n",
    "    val_loss = history.history['val_loss']\n",
    "\n",
    "    epochs = range(len(acc))\n",
    "\n",
    "    plt.plot(epochs, acc, 'b', label='Training acc')\n",
    "    plt.plot(epochs, val_acc, 'r', label='Validation acc')\n",
    "    plt.title('Training and validation accuracy')\n",
    "    plt.ylabel('Accuracy')\n",
    "    plt.xlabel('Epoch')\n",
    "    plt.legend()\n",
    "\n",
    "    plt.figure()\n",
    "\n",
    "    plt.plot(epochs, loss, 'b', label='Training loss')\n",
    "    plt.plot(epochs, val_loss, 'r', label='Validation loss')\n",
    "    plt.title('Training and validation loss')\n",
    "    plt.ylabel('Loss')\n",
    "    plt.xlabel('Epoch')\n",
    "    plt.legend()\n",
    "\n",
    "    plt.show()"
   ]
  },
  {
   "cell_type": "markdown",
   "metadata": {},
   "source": [
    "**Train Model**"
   ]
  },
  {
   "cell_type": "code",
   "execution_count": 15,
   "metadata": {},
   "outputs": [],
   "source": [
    "tbCallBack = kr.callbacks.TensorBoard(log_dir='./data/graph/elu_drop/', histogram_freq=0, write_graph=True, write_images=True)"
   ]
  },
  {
   "cell_type": "code",
   "execution_count": 16,
   "metadata": {},
   "outputs": [],
   "source": [
    "batch = 16"
   ]
  },
  {
   "cell_type": "code",
   "execution_count": 17,
   "metadata": {},
   "outputs": [
    {
     "name": "stdout",
     "output_type": "stream",
     "text": [
      "WARNING:tensorflow:Variable *= will be deprecated. Use variable.assign_mul if you want assignment to the variable value or 'x = x * y' if you want a new python Tensor object.\n",
      "Train on 2123 samples, validate on 236 samples\n",
      "Epoch 1/5\n",
      "2123/2123 [==============================] - 33s 16ms/step - loss: 3.7393 - acc: 0.0688 - val_loss: 15.0522 - val_acc: 0.0169\n",
      "Epoch 2/5\n",
      "2123/2123 [==============================] - 19s 9ms/step - loss: 2.8081 - acc: 0.2341 - val_loss: 6.2019 - val_acc: 0.1186\n",
      "Epoch 3/5\n",
      "2123/2123 [==============================] - 19s 9ms/step - loss: 2.2015 - acc: 0.3665 - val_loss: 4.6913 - val_acc: 0.2542\n",
      "Epoch 4/5\n",
      "2123/2123 [==============================] - 19s 9ms/step - loss: 1.7146 - acc: 0.4932 - val_loss: 5.0880 - val_acc: 0.2415\n",
      "Epoch 5/5\n",
      "2123/2123 [==============================] - 18s 9ms/step - loss: 1.3780 - acc: 0.5751 - val_loss: 2.0006 - val_acc: 0.4534\n",
      "Train on 2123 samples, validate on 236 samples\n",
      "Epoch 6/10\n",
      "2123/2123 [==============================] - 19s 9ms/step - loss: 1.0745 - acc: 0.6707 - val_loss: 3.0288 - val_acc: 0.3856\n",
      "Epoch 7/10\n",
      "2123/2123 [==============================] - 19s 9ms/step - loss: 0.9351 - acc: 0.7009 - val_loss: 1.2928 - val_acc: 0.6653\n",
      "Epoch 8/10\n",
      "2123/2123 [==============================] - 19s 9ms/step - loss: 0.8067 - acc: 0.7428 - val_loss: 2.5406 - val_acc: 0.4576\n",
      "Epoch 9/10\n",
      "2123/2123 [==============================] - 18s 9ms/step - loss: 0.7265 - acc: 0.7744 - val_loss: 1.9261 - val_acc: 0.5297\n",
      "Epoch 10/10\n",
      "2123/2123 [==============================] - 18s 9ms/step - loss: 0.6091 - acc: 0.8059 - val_loss: 0.9722 - val_acc: 0.7458\n",
      "Train on 2123 samples, validate on 236 samples\n",
      "Epoch 11/15\n",
      "2123/2123 [==============================] - 19s 9ms/step - loss: 0.4996 - acc: 0.8427 - val_loss: 1.9114 - val_acc: 0.5212\n",
      "Epoch 12/15\n",
      "2123/2123 [==============================] - 18s 8ms/step - loss: 0.4991 - acc: 0.8559 - val_loss: 0.9669 - val_acc: 0.7161\n",
      "Epoch 13/15\n",
      "2123/2123 [==============================] - 19s 9ms/step - loss: 0.4025 - acc: 0.8681 - val_loss: 1.7379 - val_acc: 0.6059\n",
      "Epoch 14/15\n",
      "2123/2123 [==============================] - 18s 9ms/step - loss: 0.3788 - acc: 0.8813 - val_loss: 1.6009 - val_acc: 0.5847\n",
      "Epoch 15/15\n",
      "2123/2123 [==============================] - 18s 9ms/step - loss: 0.3079 - acc: 0.9063 - val_loss: 1.3366 - val_acc: 0.6695\n",
      "Train on 2123 samples, validate on 236 samples\n",
      "Epoch 16/20\n",
      "2123/2123 [==============================] - 19s 9ms/step - loss: 0.3241 - acc: 0.9016 - val_loss: 1.8630 - val_acc: 0.5508\n",
      "Epoch 17/20\n",
      "2123/2123 [==============================] - 19s 9ms/step - loss: 0.2150 - acc: 0.9312 - val_loss: 1.4384 - val_acc: 0.6907\n",
      "Epoch 18/20\n",
      "2123/2123 [==============================] - 18s 9ms/step - loss: 0.2320 - acc: 0.9237 - val_loss: 1.2992 - val_acc: 0.7076\n",
      "Epoch 19/20\n",
      "2123/2123 [==============================] - 18s 9ms/step - loss: 0.1600 - acc: 0.9482 - val_loss: 1.2107 - val_acc: 0.7415\n",
      "Epoch 20/20\n",
      "2123/2123 [==============================] - 18s 9ms/step - loss: 0.2110 - acc: 0.9312 - val_loss: 1.5403 - val_acc: 0.6992\n",
      "Train on 2123 samples, validate on 236 samples\n",
      "Epoch 21/25\n",
      "2123/2123 [==============================] - 19s 9ms/step - loss: 0.1827 - acc: 0.9449 - val_loss: 1.4703 - val_acc: 0.7542\n",
      "Epoch 22/25\n",
      "2123/2123 [==============================] - 18s 9ms/step - loss: 0.1456 - acc: 0.9543 - val_loss: 2.5197 - val_acc: 0.6144\n",
      "Epoch 23/25\n",
      "2123/2123 [==============================] - 18s 9ms/step - loss: 0.1704 - acc: 0.9515 - val_loss: 1.0641 - val_acc: 0.7500\n",
      "Epoch 24/25\n",
      "2123/2123 [==============================] - 18s 9ms/step - loss: 0.1206 - acc: 0.9628 - val_loss: 1.1509 - val_acc: 0.7797\n",
      "Epoch 25/25\n",
      "2123/2123 [==============================] - 19s 9ms/step - loss: 0.1729 - acc: 0.9477 - val_loss: 1.1806 - val_acc: 0.7458\n",
      "Train on 2123 samples, validate on 236 samples\n",
      "Epoch 26/30\n",
      "2123/2123 [==============================] - 18s 8ms/step - loss: 0.1006 - acc: 0.9661 - val_loss: 1.3472 - val_acc: 0.7119\n",
      "Epoch 27/30\n",
      "2123/2123 [==============================] - 18s 9ms/step - loss: 0.0681 - acc: 0.9812 - val_loss: 1.1811 - val_acc: 0.7500\n",
      "Epoch 28/30\n",
      "2123/2123 [==============================] - 18s 9ms/step - loss: 0.1747 - acc: 0.9458 - val_loss: 1.2164 - val_acc: 0.7373\n",
      "Epoch 29/30\n",
      "2123/2123 [==============================] - 19s 9ms/step - loss: 0.1122 - acc: 0.9637 - val_loss: 1.6296 - val_acc: 0.6780\n",
      "Epoch 30/30\n",
      "2123/2123 [==============================] - 18s 9ms/step - loss: 0.1269 - acc: 0.9614 - val_loss: 0.7323 - val_acc: 0.8559\n"
     ]
    }
   ],
   "source": [
    "index= 0\n",
    "step = 5\n",
    "stop = 30\n",
    "\n",
    "while index < stop:\n",
    "    history = model.fit(x_train, y_train, batch_size=batch, initial_epoch=index, epochs=index+step, validation_data=(x_val, y_val), callbacks=[tbCallBack])\n",
    "    index += step\n",
    "    model.save_weights('data/models/model_coarse'+str(index)+'.h5')\n",
    "save_index = index"
   ]
  },
  {
   "cell_type": "code",
   "execution_count": 18,
   "metadata": {},
   "outputs": [
    {
     "data": {
      "image/png": "[encoded data removed]",
      "text/plain": [
       "<Figure size 432x288 with 1 Axes>"
      ]
     },
     "metadata": {},
     "output_type": "display_data"
    },
    {
     "data": {
      "image/png": "[encoded data removed]",
      "text/plain": [
       "<Figure size 432x288 with 1 Axes>"
      ]
     },
     "metadata": {},
     "output_type": "display_data"
    }
   ],
   "source": [
    "train_histo_vis(history)"
   ]
  },
  {
   "cell_type": "markdown",
   "metadata": {},
   "source": [
    "### Load Most Recent Model"
   ]
  },
  {
   "cell_type": "code",
   "execution_count": 19,
   "metadata": {},
   "outputs": [],
   "source": [
    "sgd_fine = optimizers.SGD(lr=0.001, decay=1e-6, momentum=0.9, nesterov=True)"
   ]
  },
  {
   "cell_type": "code",
   "execution_count": 20,
   "metadata": {},
   "outputs": [
    {
     "name": "stdout",
     "output_type": "stream",
     "text": [
      "(0, 'main_input')\n",
      "(1, 'Conv2d_1a_7x7_conv')\n",
      "(2, 'Conv2d_1a_7x7_bn')\n",
      "(3, 'Conv2d_1a_7x7_act')\n",
      "(4, 'MaxPool_2a_3x3')\n",
      "(5, 'Conv2d_2b_1x1_conv')\n",
      "(6, 'Conv2d_2b_1x1_bn')\n",
      "(7, 'Conv2d_2b_1x1_act')\n",
      "(8, 'Conv2d_2c_3x3_conv')\n",
      "(9, 'Conv2d_2c_3x3_bn')\n",
      "(10, 'Conv2d_2c_3x3_act')\n",
      "(11, 'MaxPool_3a_3x3')\n",
      "(12, 'Mixed_3b_Branch_1_a_1x1_conv')\n",
      "(13, 'Mixed_3b_Branch_2_a_1x1_conv')\n",
      "(14, 'Mixed_3b_Branch_1_a_1x1_bn')\n",
      "(15, 'Mixed_3b_Branch_2_a_1x1_bn')\n",
      "(16, 'Mixed_3b_Branch_1_a_1x1_act')\n",
      "(17, 'Mixed_3b_Branch_2_a_1x1_act')\n",
      "(18, 'Mixed_3b_Branch_3_a_max')\n",
      "(19, 'Mixed_3b_Branch_0_a_1x1_conv')\n",
      "(20, 'Mixed_3b_Branch_1_b_3x3_conv')\n",
      "(21, 'Mixed_3b_Branch_2_b_3x3_conv')\n",
      "(22, 'Mixed_3b_Branch_3_b_1x1_conv')\n",
      "(23, 'Mixed_3b_Branch_0_a_1x1_bn')\n",
      "(24, 'Mixed_3b_Branch_1_b_3x3_bn')\n",
      "(25, 'Mixed_3b_Branch_2_b_3x3_bn')\n",
      "(26, 'Mixed_3b_Branch_3_b_1x1_bn')\n",
      "(27, 'Mixed_3b_Branch_0_a_1x1_act')\n",
      "(28, 'Mixed_3b_Branch_1_b_3x3_act')\n",
      "(29, 'Mixed_3b_Branch_2_b_3x3_act')\n",
      "(30, 'Mixed_3b_Branch_3_b_1x1_act')\n",
      "(31, 'Mixed_3b_Concatenated')\n",
      "(32, 'Mixed_3c_Branch_1_a_1x1_conv')\n",
      "(33, 'Mixed_3c_Branch_2_a_1x1_conv')\n",
      "(34, 'Mixed_3c_Branch_1_a_1x1_bn')\n",
      "(35, 'Mixed_3c_Branch_2_a_1x1_bn')\n",
      "(36, 'Mixed_3c_Branch_1_a_1x1_act')\n",
      "(37, 'Mixed_3c_Branch_2_a_1x1_act')\n",
      "(38, 'Mixed_3c_Branch_3_a_max')\n",
      "(39, 'Mixed_3c_Branch_0_a_1x1_conv')\n",
      "(40, 'Mixed_3c_Branch_1_b_3x3_conv')\n",
      "(41, 'Mixed_3c_Branch_2_b_3x3_conv')\n",
      "(42, 'Mixed_3c_Branch_3_b_1x1_conv')\n",
      "(43, 'Mixed_3c_Branch_0_a_1x1_bn')\n",
      "(44, 'Mixed_3c_Branch_1_b_3x3_bn')\n",
      "(45, 'Mixed_3c_Branch_2_b_3x3_bn')\n",
      "(46, 'Mixed_3c_Branch_3_b_1x1_bn')\n",
      "(47, 'Mixed_3c_Branch_0_a_1x1_act')\n",
      "(48, 'Mixed_3c_Branch_1_b_3x3_act')\n",
      "(49, 'Mixed_3c_Branch_2_b_3x3_act')\n",
      "(50, 'Mixed_3c_Branch_3_b_1x1_act')\n",
      "(51, 'Mixed_3c_Concatenated')\n",
      "(52, 'MaxPool_4a_3x3')\n",
      "(53, 'Mixed_4b_Branch_1_a_1x1_conv')\n",
      "(54, 'Mixed_4b_Branch_2_a_1x1_conv')\n",
      "(55, 'Mixed_4b_Branch_1_a_1x1_bn')\n",
      "(56, 'Mixed_4b_Branch_2_a_1x1_bn')\n",
      "(57, 'Mixed_4b_Branch_1_a_1x1_act')\n",
      "(58, 'Mixed_4b_Branch_2_a_1x1_act')\n",
      "(59, 'Mixed_4b_Branch_3_a_max')\n",
      "(60, 'Mixed_4b_Branch_0_a_1x1_conv')\n",
      "(61, 'Mixed_4b_Branch_1_b_3x3_conv')\n",
      "(62, 'Mixed_4b_Branch_2_b_3x3_conv')\n",
      "(63, 'Mixed_4b_Branch_3_b_1x1_conv')\n",
      "(64, 'Mixed_4b_Branch_0_a_1x1_bn')\n",
      "(65, 'Mixed_4b_Branch_1_b_3x3_bn')\n",
      "(66, 'Mixed_4b_Branch_2_b_3x3_bn')\n",
      "(67, 'Mixed_4b_Branch_3_b_1x1_bn')\n",
      "(68, 'Mixed_4b_Branch_0_a_1x1_act')\n",
      "(69, 'Mixed_4b_Branch_1_b_3x3_act')\n",
      "(70, 'Mixed_4b_Branch_2_b_3x3_act')\n",
      "(71, 'Mixed_4b_Branch_3_b_1x1_act')\n",
      "(72, 'Mixed_4b_Concatenated')\n",
      "(73, 'Mixed_4c_Branch_1_a_1x1_conv')\n",
      "(74, 'Mixed_4c_Branch_2_a_1x1_conv')\n",
      "(75, 'Mixed_4c_Branch_1_a_1x1_bn')\n",
      "(76, 'Mixed_4c_Branch_2_a_1x1_bn')\n",
      "(77, 'Mixed_4c_Branch_1_a_1x1_act')\n",
      "(78, 'Mixed_4c_Branch_2_a_1x1_act')\n",
      "(79, 'Mixed_4c_Branch_3_a_max')\n",
      "(80, 'Mixed_4c_Branch_0_a_1x1_conv')\n",
      "(81, 'Mixed_4c_Branch_1_b_3x3_conv')\n",
      "(82, 'Mixed_4c_Branch_2_b_3x3_conv')\n",
      "(83, 'Mixed_4c_Branch_3_b_1x1_conv')\n",
      "(84, 'Mixed_4c_Branch_0_a_1x1_bn')\n",
      "(85, 'Mixed_4c_Branch_1_b_3x3_bn')\n",
      "(86, 'Mixed_4c_Branch_2_b_3x3_bn')\n",
      "(87, 'Mixed_4c_Branch_3_b_1x1_bn')\n",
      "(88, 'Mixed_4c_Branch_0_a_1x1_act')\n",
      "(89, 'Mixed_4c_Branch_1_b_3x3_act')\n",
      "(90, 'Mixed_4c_Branch_2_b_3x3_act')\n",
      "(91, 'Mixed_4c_Branch_3_b_1x1_act')\n",
      "(92, 'Mixed_4c_Concatenated')\n",
      "(93, 'Mixed_4d_Branch_1_a_1x1_conv')\n",
      "(94, 'Mixed_4d_Branch_2_a_1x1_conv')\n",
      "(95, 'Mixed_4d_Branch_1_a_1x1_bn')\n",
      "(96, 'Mixed_4d_Branch_2_a_1x1_bn')\n",
      "(97, 'Mixed_4d_Branch_1_a_1x1_act')\n",
      "(98, 'Mixed_4d_Branch_2_a_1x1_act')\n",
      "(99, 'Mixed_4d_Branch_3_a_max')\n",
      "(100, 'Mixed_4d_Branch_0_a_1x1_conv')\n",
      "(101, 'Mixed_4d_Branch_1_b_3x3_conv')\n",
      "(102, 'Mixed_4d_Branch_2_b_3x3_conv')\n",
      "(103, 'Mixed_4d_Branch_3_b_1x1_conv')\n",
      "(104, 'Mixed_4d_Branch_0_a_1x1_bn')\n",
      "(105, 'Mixed_4d_Branch_1_b_3x3_bn')\n",
      "(106, 'Mixed_4d_Branch_2_b_3x3_bn')\n",
      "(107, 'Mixed_4d_Branch_3_b_1x1_bn')\n",
      "(108, 'Mixed_4d_Branch_0_a_1x1_act')\n",
      "(109, 'Mixed_4d_Branch_1_b_3x3_act')\n",
      "(110, 'Mixed_4d_Branch_2_b_3x3_act')\n",
      "(111, 'Mixed_4d_Branch_3_b_1x1_act')\n",
      "(112, 'Mixed_4d_Concatenated')\n",
      "(113, 'Mixed_4e_Branch_1_a_1x1_conv')\n",
      "(114, 'Mixed_4e_Branch_2_a_1x1_conv')\n",
      "(115, 'Mixed_4e_Branch_1_a_1x1_bn')\n",
      "(116, 'Mixed_4e_Branch_2_a_1x1_bn')\n",
      "(117, 'Mixed_4e_Branch_1_a_1x1_act')\n",
      "(118, 'Mixed_4e_Branch_2_a_1x1_act')\n",
      "(119, 'Mixed_4e_Branch_3_a_max')\n",
      "(120, 'Mixed_4e_Branch_0_a_1x1_conv')\n",
      "(121, 'Mixed_4e_Branch_1_b_3x3_conv')\n",
      "(122, 'Mixed_4e_Branch_2_b_3x3_conv')\n",
      "(123, 'Mixed_4e_Branch_3_b_1x1_conv')\n",
      "(124, 'Mixed_4e_Branch_0_a_1x1_bn')\n",
      "(125, 'Mixed_4e_Branch_1_b_3x3_bn')\n",
      "(126, 'Mixed_4e_Branch_2_b_3x3_bn')\n",
      "(127, 'Mixed_4e_Branch_3_b_1x1_bn')\n",
      "(128, 'Mixed_4e_Branch_0_a_1x1_act')\n",
      "(129, 'Mixed_4e_Branch_1_b_3x3_act')\n",
      "(130, 'Mixed_4e_Branch_2_b_3x3_act')\n",
      "(131, 'Mixed_4e_Branch_3_b_1x1_act')\n",
      "(132, 'Mixed_4e_Concatenated')\n",
      "(133, 'Mixed_4f_Branch_1_a_1x1_conv')\n",
      "(134, 'Mixed_4f_Branch_2_a_1x1_conv')\n",
      "(135, 'Mixed_4f_Branch_1_a_1x1_bn')\n",
      "(136, 'Mixed_4f_Branch_2_a_1x1_bn')\n",
      "(137, 'Mixed_4f_Branch_1_a_1x1_act')\n",
      "(138, 'Mixed_4f_Branch_2_a_1x1_act')\n",
      "(139, 'Mixed_4f_Branch_3_a_max')\n",
      "(140, 'Mixed_4f_Branch_0_a_1x1_conv')\n",
      "(141, 'Mixed_4f_Branch_1_b_3x3_conv')\n",
      "(142, 'Mixed_4f_Branch_2_b_3x3_conv')\n",
      "(143, 'Mixed_4f_Branch_3_b_1x1_conv')\n",
      "(144, 'Mixed_4f_Branch_0_a_1x1_bn')\n",
      "(145, 'Mixed_4f_Branch_1_b_3x3_bn')\n",
      "(146, 'Mixed_4f_Branch_2_b_3x3_bn')\n",
      "(147, 'Mixed_4f_Branch_3_b_1x1_bn')\n",
      "(148, 'Mixed_4f_Branch_0_a_1x1_act')\n",
      "(149, 'Mixed_4f_Branch_1_b_3x3_act')\n",
      "(150, 'Mixed_4f_Branch_2_b_3x3_act')\n",
      "(151, 'Mixed_4f_Branch_3_b_1x1_act')\n",
      "(152, 'Mixed_4f_Concatenated')\n",
      "(153, 'MaxPool_5a_2x2')\n",
      "(154, 'Mixed_5b_Branch_1_a_1x1_conv')\n",
      "(155, 'Mixed_5b_Branch_2_a_1x1_conv')\n",
      "(156, 'Mixed_5b_Branch_1_a_1x1_bn')\n",
      "(157, 'Mixed_5b_Branch_2_a_1x1_bn')\n",
      "(158, 'Mixed_5b_Branch_1_a_1x1_act')\n",
      "(159, 'Mixed_5b_Branch_2_a_1x1_act')\n",
      "(160, 'Mixed_5b_Branch_3_a_max')\n",
      "(161, 'Mixed_5b_Branch_0_a_1x1_conv')\n",
      "(162, 'Mixed_5b_Branch_1_b_3x3_conv')\n",
      "(163, 'Mixed_5b_Branch_2_b_3x3_conv')\n",
      "(164, 'Mixed_5b_Branch_3_b_1x1_conv')\n",
      "(165, 'Mixed_5b_Branch_0_a_1x1_bn')\n",
      "(166, 'Mixed_5b_Branch_1_b_3x3_bn')\n",
      "(167, 'Mixed_5b_Branch_2_b_3x3_bn')\n",
      "(168, 'Mixed_5b_Branch_3_b_1x1_bn')\n",
      "(169, 'Mixed_5b_Branch_0_a_1x1_act')\n",
      "(170, 'Mixed_5b_Branch_1_b_3x3_act')\n",
      "(171, 'Mixed_5b_Branch_2_b_3x3_act')\n",
      "(172, 'Mixed_5b_Branch_3_b_1x1_act')\n",
      "(173, 'Mixed_5b_Concatenated')\n",
      "(174, 'Mixed_5c_Branch_1_a_1x1_conv')\n",
      "(175, 'Mixed_5c_Branch_2_a_1x1_conv')\n",
      "(176, 'Mixed_5c_Branch_1_a_1x1_bn')\n",
      "(177, 'Mixed_5c_Branch_2_a_1x1_bn')\n",
      "(178, 'Mixed_5c_Branch_1_a_1x1_act')\n",
      "(179, 'Mixed_5c_Branch_2_a_1x1_act')\n",
      "(180, 'Mixed_5c_Branch_3_a_max')\n",
      "(181, 'Mixed_5c_Branch_0_a_1x1_conv')\n",
      "(182, 'Mixed_5c_Branch_1_b_3x3_conv')\n",
      "(183, 'Mixed_5c_Branch_2_b_3x3_conv')\n",
      "(184, 'Mixed_5c_Branch_3_b_1x1_conv')\n",
      "(185, 'Mixed_5c_Branch_0_a_1x1_bn')\n",
      "(186, 'Mixed_5c_Branch_1_b_3x3_bn')\n",
      "(187, 'Mixed_5c_Branch_2_b_3x3_bn')\n",
      "(188, 'Mixed_5c_Branch_3_b_1x1_bn')\n",
      "(189, 'Mixed_5c_Branch_0_a_1x1_act')\n",
      "(190, 'Mixed_5c_Branch_1_b_3x3_act')\n",
      "(191, 'Mixed_5c_Branch_2_b_3x3_act')\n",
      "(192, 'Mixed_5c_Branch_3_b_1x1_act')\n",
      "(193, 'Mixed_5c_Concatenated')\n",
      "(194, 'average_pooling2d_1')\n",
      "(195, 'conv2d_1')\n",
      "(196, 'conv2d_2')\n",
      "(197, 'dropout_1')\n",
      "(198, 'max_pooling2d_1')\n",
      "(199, 'flatten_1')\n",
      "(200, 'dense_1')\n",
      "(201, 'dense_2')\n"
     ]
    }
   ],
   "source": [
    "# let's visualize layer names and layer indices to see how many layers\n",
    "# we should freeze:\n",
    "for i, layer in enumerate(model.layers):\n",
    "    print(i, layer.name)"
   ]
  },
  {
   "cell_type": "code",
   "execution_count": 21,
   "metadata": {},
   "outputs": [],
   "source": [
    "# to get weights and biases of all layers\n",
    "#for layer in model.layers: print(layer.get_config(), layer.get_weights())"
   ]
  },
  {
   "cell_type": "code",
   "execution_count": 22,
   "metadata": {},
   "outputs": [],
   "source": [
    "# we will freeze all layers\n",
    "for i in range(len(model.layers)):\n",
    "    model.layers[i].trainable=False"
   ]
  },
  {
   "cell_type": "markdown",
   "metadata": {},
   "source": [
    "## Fine-Tuning for Coarse Classifier"
   ]
  },
  {
   "cell_type": "code",
   "execution_count": 23,
   "metadata": {},
   "outputs": [],
   "source": [
    "y_train_c = np.dot(y_train,fine2coarse)\n",
    "y_val_c = np.dot(y_val,fine2coarse)"
   ]
  },
  {
   "cell_type": "code",
   "execution_count": 24,
   "metadata": {},
   "outputs": [],
   "source": [
    "if GGN:\n",
    "    # Inception\n",
    "    net = Conv2D(1024, 1, strides=1, padding='same', activation='relu')(model.layers[-8].output)\n",
    "    net = Conv2D(1152, 2, strides=1, padding='same', activation='relu')(net)\n",
    "else:\n",
    "    # NiN\n",
    "    net = Conv2D(1024, 1, strides=1, padding='same', activation='relu')(model.layers[-8].output)\n",
    "    net = Conv2D(1152, 2, strides=1, padding='same', activation='relu')(net)\n",
    "net = Dropout(.6)(net)\n",
    "net = MaxPooling2D((2, 2), padding='same')(net)\n",
    "\n",
    "net = Flatten()(net)\n",
    "net = Dense(1152, activation='relu')(net)\n",
    "out_coarse = Dense(20, activation='softmax')(net)\n",
    "\n",
    "model_c = Model(inputs=in_layer,outputs=out_coarse)\n",
    "model_c.compile(optimizer= sgd_coarse, loss='categorical_crossentropy', metrics=['accuracy'])\n",
    "\n",
    "# model.load_weights('data/models/model_coarse'+str(10)+'.h5')\n",
    "\n",
    "# for i in range(len(model_c.layers)-1):\n",
    "#     model_c.layers[i].set_weights(model.layers[i].get_weights())"
   ]
  },
  {
   "cell_type": "code",
   "execution_count": 25,
   "metadata": {},
   "outputs": [],
   "source": [
    "#model.load_weights('data/models/model_coarse'+str(10)+'.h5')\n",
    "\n",
    "for i in range(len(model_c.layers)-1):\n",
    "    model_c.layers[i].set_weights(model.layers[i].get_weights())"
   ]
  },
  {
   "cell_type": "code",
   "execution_count": 26,
   "metadata": {},
   "outputs": [
    {
     "name": "stdout",
     "output_type": "stream",
     "text": [
      "Train on 2123 samples, validate on 236 samples\n",
      "Epoch 31/40\n",
      "2123/2123 [==============================] - 12s 5ms/step - loss: 0.4069 - acc: 0.8874 - val_loss: 0.6811 - val_acc: 0.8475\n",
      "Epoch 32/40\n",
      "2123/2123 [==============================] - 10s 5ms/step - loss: 0.1324 - acc: 0.9585 - val_loss: 0.5724 - val_acc: 0.8602\n",
      "Epoch 33/40\n",
      "2123/2123 [==============================] - 11s 5ms/step - loss: 0.0924 - acc: 0.9699 - val_loss: 0.5608 - val_acc: 0.8771\n",
      "Epoch 34/40\n",
      "2123/2123 [==============================] - 11s 5ms/step - loss: 0.0759 - acc: 0.9779 - val_loss: 0.6150 - val_acc: 0.8814\n",
      "Epoch 35/40\n",
      "2123/2123 [==============================] - 11s 5ms/step - loss: 0.0791 - acc: 0.9764 - val_loss: 0.6834 - val_acc: 0.8602\n",
      "Epoch 36/40\n",
      "2123/2123 [==============================] - 11s 5ms/step - loss: 0.0860 - acc: 0.9741 - val_loss: 0.7000 - val_acc: 0.8517\n",
      "Epoch 37/40\n",
      "2123/2123 [==============================] - 11s 5ms/step - loss: 0.0660 - acc: 0.9797 - val_loss: 0.5824 - val_acc: 0.8814\n",
      "Epoch 38/40\n",
      "2123/2123 [==============================] - 11s 5ms/step - loss: 0.0585 - acc: 0.9797 - val_loss: 0.7623 - val_acc: 0.8602\n",
      "Epoch 39/40\n",
      "2123/2123 [==============================] - 11s 5ms/step - loss: 0.0484 - acc: 0.9840 - val_loss: 0.6505 - val_acc: 0.8686\n",
      "Epoch 40/40\n",
      "2123/2123 [==============================] - 11s 5ms/step - loss: 0.0683 - acc: 0.9783 - val_loss: 0.6639 - val_acc: 0.8517\n"
     ]
    }
   ],
   "source": [
    "index = 30\n",
    "step = 10\n",
    "stop = 40\n",
    "\n",
    "while index < stop:\n",
    "    history = model_c.fit(x_train, y_train_c, batch_size=batch, initial_epoch=index, epochs=index+step, validation_data=(x_val, y_val_c), callbacks=[tbCallBack])\n",
    "    index += step"
   ]
  },
  {
   "cell_type": "code",
   "execution_count": 27,
   "metadata": {},
   "outputs": [
    {
     "data": {
      "image/png": "[encoded data removed]",
      "text/plain": [
       "<Figure size 432x288 with 1 Axes>"
      ]
     },
     "metadata": {},
     "output_type": "display_data"
    },
    {
     "data": {
      "image/png": "[encoded data removed]",
      "text/plain": [
       "<Figure size 432x288 with 1 Axes>"
      ]
     },
     "metadata": {},
     "output_type": "display_data"
    }
   ],
   "source": [
    "train_histo_vis(history)"
   ]
  },
  {
   "cell_type": "code",
   "execution_count": 28,
   "metadata": {},
   "outputs": [
    {
     "name": "stdout",
     "output_type": "stream",
     "text": [
      "Train on 2123 samples, validate on 236 samples\n",
      "Epoch 41/50\n",
      "2123/2123 [==============================] - 12s 6ms/step - loss: 0.0316 - acc: 0.9901 - val_loss: 0.5850 - val_acc: 0.8856\n",
      "Epoch 42/50\n",
      "2123/2123 [==============================] - 11s 5ms/step - loss: 0.0262 - acc: 0.9915 - val_loss: 0.5783 - val_acc: 0.8856\n",
      "Epoch 43/50\n",
      "2123/2123 [==============================] - 11s 5ms/step - loss: 0.0197 - acc: 0.9934 - val_loss: 0.5836 - val_acc: 0.8941\n",
      "Epoch 44/50\n",
      "2123/2123 [==============================] - 11s 5ms/step - loss: 0.0262 - acc: 0.9934 - val_loss: 0.5900 - val_acc: 0.8898\n",
      "Epoch 45/50\n",
      "2123/2123 [==============================] - 11s 5ms/step - loss: 0.0218 - acc: 0.9939 - val_loss: 0.5905 - val_acc: 0.8941\n",
      "Epoch 46/50\n",
      "2123/2123 [==============================] - 11s 5ms/step - loss: 0.0217 - acc: 0.9934 - val_loss: 0.5818 - val_acc: 0.8898\n",
      "Epoch 47/50\n",
      "2123/2123 [==============================] - 11s 5ms/step - loss: 0.0236 - acc: 0.9929 - val_loss: 0.5782 - val_acc: 0.8983\n",
      "Epoch 48/50\n",
      "2123/2123 [==============================] - 11s 5ms/step - loss: 0.0178 - acc: 0.9958 - val_loss: 0.5742 - val_acc: 0.8983\n",
      "Epoch 49/50\n",
      "2123/2123 [==============================] - 11s 5ms/step - loss: 0.0219 - acc: 0.9939 - val_loss: 0.5759 - val_acc: 0.8941\n",
      "Epoch 50/50\n",
      "2123/2123 [==============================] - 11s 5ms/step - loss: 0.0152 - acc: 0.9958 - val_loss: 0.5777 - val_acc: 0.8898\n"
     ]
    }
   ],
   "source": [
    "model_c.compile(optimizer=sgd_fine, loss='categorical_crossentropy', metrics=['accuracy'])\n",
    "stop = 50\n",
    "\n",
    "while index < stop:\n",
    "    history = model_c.fit(x_train, y_train_c, batch_size=batch, initial_epoch=index, epochs=index+step, validation_data=(x_val, y_val_c), callbacks=[tbCallBack])\n",
    "    index += step"
   ]
  },
  {
   "cell_type": "code",
   "execution_count": 29,
   "metadata": {},
   "outputs": [
    {
     "data": {
      "image/png": "[encoded data removed]",
      "text/plain": [
       "<Figure size 432x288 with 1 Axes>"
      ]
     },
     "metadata": {},
     "output_type": "display_data"
    },
    {
     "data": {
      "image/png": "[encoded data removed]",
      "text/plain": [
       "<Figure size 432x288 with 1 Axes>"
      ]
     },
     "metadata": {},
     "output_type": "display_data"
    }
   ],
   "source": [
    "train_histo_vis(history)"
   ]
  },
  {
   "cell_type": "markdown",
   "metadata": {},
   "source": [
    "## Fine-Tuning for Fine Classifiers"
   ]
  },
  {
   "cell_type": "markdown",
   "metadata": {},
   "source": [
    "### Construct Fine Classifiers"
   ]
  },
  {
   "cell_type": "code",
   "execution_count": 30,
   "metadata": {},
   "outputs": [],
   "source": [
    "def fine_model():\n",
    "    net = Conv2D(1024, 1, strides=1, padding='same', activation='relu')(model.layers[-8].output)\n",
    "    net = Conv2D(1152, 2, strides=1, padding='same', activation='relu')(net)\n",
    "    net = Dropout(.2)(net)\n",
    "    net = MaxPooling2D((2, 2), padding='same')(net)\n",
    "\n",
    "    net = Flatten()(net)\n",
    "    net = Dense(1152, activation='elu')(net)\n",
    "    out_fine = Dense(61, activation='softmax')(net)\n",
    "    model_fine = Model(inputs=in_layer,outputs=out_fine)\n",
    "    model_fine.compile(optimizer= sgd_coarse,\n",
    "              loss='categorical_crossentropy',\n",
    "              metrics=['accuracy'])\n",
    "    \n",
    "    for i in range(len(model_fine.layers)-1):\n",
    "        model_fine.layers[i].set_weights(model.layers[i].get_weights())\n",
    "    return model_fine"
   ]
  },
  {
   "cell_type": "code",
   "execution_count": 31,
   "metadata": {},
   "outputs": [],
   "source": [
    "fine_models = {'models' : [{} for i in range(coarse_categories)], 'yhf' : [{} for i in range(coarse_categories)]}\n",
    "for i in range(coarse_categories):\n",
    "    model_i = fine_model()\n",
    "    fine_models['models'][i] = model_i"
   ]
  },
  {
   "cell_type": "markdown",
   "metadata": {},
   "source": [
    "### Train Fine Classifiers on Respective Data"
   ]
  },
  {
   "cell_type": "code",
   "execution_count": 32,
   "metadata": {},
   "outputs": [],
   "source": [
    "def get_error(y,yh):\n",
    "    # Threshold \n",
    "    yht = np.zeros(np.shape(yh))\n",
    "    yht[np.arange(len(yh)), yh.argmax(1)] = 1\n",
    "    # Evaluate Error\n",
    "    error = np.count_nonzero(np.count_nonzero(y-yht,1))/len(y)\n",
    "    return error"
   ]
  },
  {
   "cell_type": "code",
   "execution_count": 33,
   "metadata": {},
   "outputs": [
    {
     "name": "stdout",
     "output_type": "stream",
     "text": [
      "Train on 165 samples, validate on 18 samples\n",
      "Epoch 1/5\n",
      "165/165 [==============================] - 4s 24ms/step - loss: 1.1667 - acc: 0.7394 - val_loss: 0.7996 - val_acc: 0.8889\n",
      "Epoch 2/5\n",
      "165/165 [==============================] - 1s 5ms/step - loss: 0.1363 - acc: 0.9818 - val_loss: 0.5762 - val_acc: 0.8889\n",
      "Epoch 3/5\n",
      "165/165 [==============================] - 1s 5ms/step - loss: 0.1464 - acc: 0.9576 - val_loss: 0.4877 - val_acc: 0.8889\n",
      "Epoch 4/5\n",
      "165/165 [==============================] - 1s 6ms/step - loss: 0.1598 - acc: 0.9697 - val_loss: 0.7808 - val_acc: 0.8889\n",
      "Epoch 5/5\n",
      "165/165 [==============================] - 1s 6ms/step - loss: 0.0888 - acc: 0.9818 - val_loss: 0.6125 - val_acc: 0.8889\n",
      "Train on 165 samples, validate on 18 samples\n",
      "Epoch 6/10\n",
      "165/165 [==============================] - 3s 17ms/step - loss: 0.0015 - acc: 1.0000 - val_loss: 0.6093 - val_acc: 0.8889\n",
      "Epoch 7/10\n",
      "165/165 [==============================] - 1s 5ms/step - loss: 0.0345 - acc: 0.9939 - val_loss: 0.5685 - val_acc: 0.8889\n",
      "Epoch 8/10\n",
      "165/165 [==============================] - 1s 5ms/step - loss: 2.0727e-04 - acc: 1.0000 - val_loss: 0.4641 - val_acc: 0.8889\n",
      "Epoch 9/10\n",
      "165/165 [==============================] - 1s 6ms/step - loss: 0.0041 - acc: 1.0000 - val_loss: 0.4225 - val_acc: 0.8889\n",
      "Epoch 10/10\n",
      "165/165 [==============================] - 1s 6ms/step - loss: 0.0043 - acc: 1.0000 - val_loss: 0.3883 - val_acc: 0.8889\n",
      "Fine Classifier 0 Error: 0\n",
      "Train on 53 samples, validate on 6 samples\n",
      "Epoch 1/5\n",
      "53/53 [==============================] - 3s 60ms/step - loss: 2.4317 - acc: 0.5849 - val_loss: 0.4435 - val_acc: 0.8333\n",
      "Epoch 2/5\n",
      "53/53 [==============================] - 0s 7ms/step - loss: 0.0648 - acc: 1.0000 - val_loss: 0.5891 - val_acc: 0.8333\n",
      "Epoch 3/5\n",
      "53/53 [==============================] - 0s 6ms/step - loss: 5.8893e-04 - acc: 1.0000 - val_loss: 0.9314 - val_acc: 0.8333\n",
      "Epoch 4/5\n",
      "53/53 [==============================] - 0s 7ms/step - loss: 6.9792e-05 - acc: 1.0000 - val_loss: 1.2281 - val_acc: 0.8333\n",
      "Epoch 5/5\n",
      "53/53 [==============================] - 0s 7ms/step - loss: 8.1071e-04 - acc: 1.0000 - val_loss: 1.4328 - val_acc: 0.8333\n",
      "Train on 53 samples, validate on 6 samples\n",
      "Epoch 6/10\n",
      "53/53 [==============================] - 3s 48ms/step - loss: 1.6109e-05 - acc: 1.0000 - val_loss: 1.4327 - val_acc: 0.8333\n",
      "Epoch 7/10\n",
      "53/53 [==============================] - 0s 7ms/step - loss: 0.0315 - acc: 0.9811 - val_loss: 1.4106 - val_acc: 0.8333\n",
      "Epoch 8/10\n",
      "53/53 [==============================] - 0s 6ms/step - loss: 6.4335e-06 - acc: 1.0000 - val_loss: 1.3961 - val_acc: 0.8333\n",
      "Epoch 9/10\n",
      "53/53 [==============================] - 0s 7ms/step - loss: 0.1361 - acc: 0.9811 - val_loss: 1.5082 - val_acc: 0.8333\n",
      "Epoch 10/10\n",
      "53/53 [==============================] - 0s 7ms/step - loss: 4.6447e-07 - acc: 1.0000 - val_loss: 1.6809 - val_acc: 0.8333\n",
      "Fine Classifier 1 Error: 0\n",
      "Train on 156 samples, validate on 18 samples\n",
      "Epoch 1/5\n",
      "156/156 [==============================] - 3s 22ms/step - loss: 1.1935 - acc: 0.7564 - val_loss: 0.1889 - val_acc: 0.8889\n",
      "Epoch 2/5\n",
      "156/156 [==============================] - 1s 5ms/step - loss: 0.0205 - acc: 0.9936 - val_loss: 0.1812 - val_acc: 0.9444\n",
      "Epoch 3/5\n",
      "156/156 [==============================] - 1s 5ms/step - loss: 0.0470 - acc: 0.9744 - val_loss: 0.0980 - val_acc: 0.9444\n",
      "Epoch 4/5\n",
      "156/156 [==============================] - 1s 5ms/step - loss: 0.0358 - acc: 0.9872 - val_loss: 0.3503 - val_acc: 0.9444\n",
      "Epoch 5/5\n",
      "156/156 [==============================] - 1s 5ms/step - loss: 0.0303 - acc: 0.9936 - val_loss: 0.4018 - val_acc: 0.9444\n",
      "Train on 156 samples, validate on 18 samples\n",
      "Epoch 6/10\n",
      "156/156 [==============================] - 4s 23ms/step - loss: 0.0303 - acc: 0.9936 - val_loss: 0.3966 - val_acc: 0.9444\n",
      "Epoch 7/10\n",
      "156/156 [==============================] - 1s 5ms/step - loss: 0.0198 - acc: 0.9936 - val_loss: 0.3865 - val_acc: 0.9444\n",
      "Epoch 8/10\n",
      "156/156 [==============================] - 1s 5ms/step - loss: 0.0046 - acc: 1.0000 - val_loss: 0.3815 - val_acc: 0.9444\n",
      "Epoch 9/10\n",
      "156/156 [==============================] - 1s 5ms/step - loss: 0.0268 - acc: 0.9872 - val_loss: 0.3784 - val_acc: 0.9444\n",
      "Epoch 10/10\n",
      "156/156 [==============================] - 1s 5ms/step - loss: 0.0146 - acc: 0.9936 - val_loss: 0.3786 - val_acc: 0.9444\n",
      "Fine Classifier 2 Error: 0\n",
      "Train on 80 samples, validate on 8 samples\n",
      "Epoch 1/5\n",
      "80/80 [==============================] - 3s 38ms/step - loss: 1.5768 - acc: 0.7625 - val_loss: 0.0095 - val_acc: 1.0000\n",
      "Epoch 2/5\n",
      "80/80 [==============================] - 0s 6ms/step - loss: 0.0026 - acc: 1.0000 - val_loss: 3.8151e-05 - val_acc: 1.0000\n",
      "Epoch 3/5\n",
      "80/80 [==============================] - 0s 5ms/step - loss: 3.3042e-04 - acc: 1.0000 - val_loss: 1.4529e-06 - val_acc: 1.0000\n",
      "Epoch 4/5\n",
      "80/80 [==============================] - 0s 5ms/step - loss: 4.5151e-04 - acc: 1.0000 - val_loss: 4.0233e-07 - val_acc: 1.0000\n",
      "Epoch 5/5\n",
      "80/80 [==============================] - 0s 5ms/step - loss: 4.4331e-07 - acc: 1.0000 - val_loss: 2.5332e-07 - val_acc: 1.0000\n",
      "Train on 80 samples, validate on 8 samples\n",
      "Epoch 6/10\n",
      "80/80 [==============================] - 3s 35ms/step - loss: 3.1309e-06 - acc: 1.0000 - val_loss: 2.5332e-07 - val_acc: 1.0000\n",
      "Epoch 7/10\n",
      "80/80 [==============================] - 0s 5ms/step - loss: 1.3210e-06 - acc: 1.0000 - val_loss: 2.5332e-07 - val_acc: 1.0000\n",
      "Epoch 8/10\n",
      "80/80 [==============================] - 0s 5ms/step - loss: 6.3682e-05 - acc: 1.0000 - val_loss: 2.5332e-07 - val_acc: 1.0000\n",
      "Epoch 9/10\n",
      "80/80 [==============================] - 0s 5ms/step - loss: 2.2624e-04 - acc: 1.0000 - val_loss: 2.5332e-07 - val_acc: 1.0000\n",
      "Epoch 10/10\n",
      "80/80 [==============================] - 0s 5ms/step - loss: 9.6327e-04 - acc: 1.0000 - val_loss: 2.3842e-07 - val_acc: 1.0000\n",
      "Fine Classifier 3 Error: 0\n",
      "Train on 20 samples, validate on 2 samples\n",
      "Epoch 1/5\n",
      "20/20 [==============================] - 3s 170ms/step - loss: 4.4124 - acc: 0.0500 - val_loss: 2.4078 - val_acc: 0.0000e+00\n",
      "Epoch 2/5\n",
      "20/20 [==============================] - 0s 10ms/step - loss: 2.1831 - acc: 1.0000 - val_loss: 0.1061 - val_acc: 1.0000\n",
      "Epoch 3/5\n",
      "20/20 [==============================] - 0s 10ms/step - loss: 0.1484 - acc: 1.0000 - val_loss: 0.0012 - val_acc: 1.0000\n",
      "Epoch 4/5\n",
      "20/20 [==============================] - 0s 10ms/step - loss: 0.0019 - acc: 1.0000 - val_loss: 1.6064e-05 - val_acc: 1.0000\n",
      "Epoch 5/5\n",
      "20/20 [==============================] - 0s 10ms/step - loss: 2.9103e-05 - acc: 1.0000 - val_loss: 2.9802e-07 - val_acc: 1.0000\n",
      "Train on 20 samples, validate on 2 samples\n",
      "Epoch 6/10\n",
      "20/20 [==============================] - 3s 155ms/step - loss: 3.6657e-07 - acc: 1.0000 - val_loss: 2.9802e-07 - val_acc: 1.0000\n",
      "Epoch 7/10\n",
      "20/20 [==============================] - 0s 10ms/step - loss: 3.1292e-07 - acc: 1.0000 - val_loss: 2.9802e-07 - val_acc: 1.0000\n",
      "Epoch 8/10\n",
      "20/20 [==============================] - 0s 10ms/step - loss: 3.2485e-07 - acc: 1.0000 - val_loss: 2.9802e-07 - val_acc: 1.0000\n",
      "Epoch 9/10\n",
      "20/20 [==============================] - 0s 10ms/step - loss: 2.2948e-07 - acc: 1.0000 - val_loss: 2.9802e-07 - val_acc: 1.0000\n",
      "Epoch 10/10\n",
      "20/20 [==============================] - 0s 10ms/step - loss: 2.8908e-07 - acc: 1.0000 - val_loss: 2.9802e-07 - val_acc: 1.0000\n",
      "Fine Classifier 4 Error: 0\n",
      "Train on 30 samples, validate on 3 samples\n",
      "Epoch 1/5\n",
      "30/30 [==============================] - 3s 108ms/step - loss: 3.4155 - acc: 0.4000 - val_loss: 1.0871 - val_acc: 1.0000\n",
      "Epoch 2/5\n",
      "30/30 [==============================] - 0s 7ms/step - loss: 0.7355 - acc: 1.0000 - val_loss: 0.0911 - val_acc: 1.0000\n",
      "Epoch 3/5\n",
      "30/30 [==============================] - 0s 7ms/step - loss: 0.0151 - acc: 1.0000 - val_loss: 0.0031 - val_acc: 1.0000\n",
      "Epoch 4/5\n",
      "30/30 [==============================] - 0s 7ms/step - loss: 5.0558e-04 - acc: 1.0000 - val_loss: 8.4073e-05 - val_acc: 1.0000\n",
      "Epoch 5/5\n",
      "30/30 [==============================] - 0s 7ms/step - loss: 1.5484e-05 - acc: 1.0000 - val_loss: 2.8014e-06 - val_acc: 1.0000\n",
      "Train on 30 samples, validate on 3 samples\n",
      "Epoch 6/10\n",
      "30/30 [==============================] - 2s 81ms/step - loss: 5.1658e-07 - acc: 1.0000 - val_loss: 2.8014e-06 - val_acc: 1.0000\n",
      "Epoch 7/10\n",
      "30/30 [==============================] - 0s 7ms/step - loss: 5.0068e-07 - acc: 1.0000 - val_loss: 2.8014e-06 - val_acc: 1.0000\n",
      "Epoch 8/10\n",
      "30/30 [==============================] - 0s 7ms/step - loss: 8.2851e-07 - acc: 1.0000 - val_loss: 2.8014e-06 - val_acc: 1.0000\n",
      "Epoch 9/10\n",
      "30/30 [==============================] - 0s 7ms/step - loss: 5.7618e-07 - acc: 1.0000 - val_loss: 2.8014e-06 - val_acc: 1.0000\n",
      "Epoch 10/10\n",
      "30/30 [==============================] - 0s 7ms/step - loss: 9.3779e-07 - acc: 1.0000 - val_loss: 2.8014e-06 - val_acc: 1.0000\n",
      "Fine Classifier 5 Error: 0\n",
      "Train on 59 samples, validate on 6 samples\n",
      "Epoch 1/5\n",
      "59/59 [==============================] - 3s 49ms/step - loss: 2.3095 - acc: 0.5593 - val_loss: 0.1618 - val_acc: 1.0000\n",
      "Epoch 2/5\n",
      "59/59 [==============================] - 0s 6ms/step - loss: 0.0254 - acc: 1.0000 - val_loss: 0.0079 - val_acc: 1.0000\n",
      "Epoch 3/5\n",
      "59/59 [==============================] - 0s 6ms/step - loss: 2.5319e-04 - acc: 1.0000 - val_loss: 0.0014 - val_acc: 1.0000\n",
      "Epoch 4/5\n",
      "59/59 [==============================] - 0s 5ms/step - loss: 4.6838e-06 - acc: 1.0000 - val_loss: 3.6974e-04 - val_acc: 1.0000\n",
      "Epoch 5/5\n",
      "59/59 [==============================] - 0s 6ms/step - loss: 1.7245e-04 - acc: 1.0000 - val_loss: 1.4451e-04 - val_acc: 1.0000\n",
      "Train on 59 samples, validate on 6 samples\n",
      "Epoch 6/10\n",
      "59/59 [==============================] - 3s 45ms/step - loss: 2.0058e-04 - acc: 1.0000 - val_loss: 1.4422e-04 - val_acc: 1.0000\n",
      "Epoch 7/10\n",
      "59/59 [==============================] - 0s 6ms/step - loss: 4.7515e-06 - acc: 1.0000 - val_loss: 1.4401e-04 - val_acc: 1.0000\n",
      "Epoch 8/10\n",
      "59/59 [==============================] - 0s 5ms/step - loss: 2.3476e-04 - acc: 1.0000 - val_loss: 1.4418e-04 - val_acc: 1.0000\n",
      "Epoch 9/10\n",
      "59/59 [==============================] - 0s 6ms/step - loss: 1.0925e-04 - acc: 1.0000 - val_loss: 1.4449e-04 - val_acc: 1.0000\n",
      "Epoch 10/10\n",
      "59/59 [==============================] - 0s 6ms/step - loss: 1.7053e-06 - acc: 1.0000 - val_loss: 1.4473e-04 - val_acc: 1.0000\n",
      "Fine Classifier 6 Error: 0\n",
      "Train on 85 samples, validate on 9 samples\n",
      "Epoch 1/5\n",
      "85/85 [==============================] - 3s 37ms/step - loss: 1.6152 - acc: 0.7176 - val_loss: 3.9434e-04 - val_acc: 1.0000\n",
      "Epoch 2/5\n",
      "85/85 [==============================] - 0s 6ms/step - loss: 0.0055 - acc: 1.0000 - val_loss: 3.4505e-06 - val_acc: 1.0000\n",
      "Epoch 3/5\n",
      "85/85 [==============================] - 1s 6ms/step - loss: 3.3409e-04 - acc: 1.0000 - val_loss: 1.9868e-07 - val_acc: 1.0000\n",
      "Epoch 4/5\n",
      "85/85 [==============================] - 0s 6ms/step - loss: 0.0629 - acc: 0.9765 - val_loss: 1.1921e-07 - val_acc: 1.0000\n",
      "Epoch 5/5\n",
      "85/85 [==============================] - 0s 6ms/step - loss: 0.3729 - acc: 0.9529 - val_loss: 1.4325e-04 - val_acc: 1.0000\n",
      "Train on 85 samples, validate on 9 samples\n",
      "Epoch 6/10\n",
      "85/85 [==============================] - 3s 40ms/step - loss: 6.2753e-05 - acc: 1.0000 - val_loss: 1.4205e-04 - val_acc: 1.0000\n",
      "Epoch 7/10\n",
      "85/85 [==============================] - 0s 6ms/step - loss: 1.4761e-06 - acc: 1.0000 - val_loss: 1.3957e-04 - val_acc: 1.0000\n",
      "Epoch 8/10\n",
      "85/85 [==============================] - 0s 6ms/step - loss: 4.9252e-06 - acc: 1.0000 - val_loss: 1.3825e-04 - val_acc: 1.0000\n",
      "Epoch 9/10\n",
      "85/85 [==============================] - 1s 6ms/step - loss: 5.2417e-05 - acc: 1.0000 - val_loss: 1.3779e-04 - val_acc: 1.0000\n",
      "Epoch 10/10\n",
      "85/85 [==============================] - 0s 6ms/step - loss: 3.9371e-05 - acc: 1.0000 - val_loss: 1.3802e-04 - val_acc: 1.0000\n",
      "Fine Classifier 7 Error: 0\n",
      "Train on 225 samples, validate on 25 samples\n",
      "Epoch 1/5\n",
      "225/225 [==============================] - 4s 20ms/step - loss: 0.8770 - acc: 0.8089 - val_loss: 0.9394 - val_acc: 0.7600\n",
      "Epoch 2/5\n",
      "225/225 [==============================] - 1s 5ms/step - loss: 0.2375 - acc: 0.9333 - val_loss: 1.0217 - val_acc: 0.8000\n",
      "Epoch 3/5\n",
      "225/225 [==============================] - 1s 5ms/step - loss: 0.0645 - acc: 0.9867 - val_loss: 0.7220 - val_acc: 0.8800\n",
      "Epoch 4/5\n",
      "225/225 [==============================] - 1s 5ms/step - loss: 0.2369 - acc: 0.9244 - val_loss: 2.9797 - val_acc: 0.6000\n",
      "Epoch 5/5\n",
      "225/225 [==============================] - 1s 5ms/step - loss: 0.0940 - acc: 0.9733 - val_loss: 0.7416 - val_acc: 0.8400\n",
      "Train on 225 samples, validate on 25 samples\n",
      "Epoch 6/10\n",
      "225/225 [==============================] - 4s 17ms/step - loss: 0.0479 - acc: 0.9911 - val_loss: 0.6548 - val_acc: 0.8400\n",
      "Epoch 7/10\n",
      "225/225 [==============================] - 1s 5ms/step - loss: 0.0959 - acc: 0.9778 - val_loss: 0.6421 - val_acc: 0.8400\n",
      "Epoch 8/10\n",
      "225/225 [==============================] - 1s 5ms/step - loss: 0.1853 - acc: 0.9689 - val_loss: 0.6356 - val_acc: 0.8800\n",
      "Epoch 9/10\n",
      "225/225 [==============================] - 1s 5ms/step - loss: 0.0046 - acc: 0.9956 - val_loss: 1.0276 - val_acc: 0.8000\n",
      "Epoch 10/10\n",
      "225/225 [==============================] - 1s 5ms/step - loss: 0.0640 - acc: 0.9956 - val_loss: 1.1463 - val_acc: 0.8000\n",
      "Fine Classifier 8 Error: 0\n",
      "Train on 69 samples, validate on 8 samples\n",
      "Epoch 1/5\n",
      "69/69 [==============================] - 3s 46ms/step - loss: 2.0623 - acc: 0.7101 - val_loss: 0.5385 - val_acc: 0.8750\n",
      "Epoch 2/5\n",
      "69/69 [==============================] - 0s 6ms/step - loss: 0.0043 - acc: 1.0000 - val_loss: 2.0265 - val_acc: 0.8750\n",
      "Epoch 3/5\n",
      "69/69 [==============================] - 0s 6ms/step - loss: 0.1909 - acc: 0.9710 - val_loss: 0.0301 - val_acc: 1.0000\n",
      "Epoch 4/5\n",
      "69/69 [==============================] - 0s 6ms/step - loss: 0.0048 - acc: 1.0000 - val_loss: 1.1921e-07 - val_acc: 1.0000\n",
      "Epoch 5/5\n",
      "69/69 [==============================] - 0s 6ms/step - loss: 0.2309 - acc: 0.9710 - val_loss: 1.1921e-07 - val_acc: 1.0000\n",
      "Train on 69 samples, validate on 8 samples\n",
      "Epoch 6/10\n",
      "69/69 [==============================] - 4s 54ms/step - loss: 5.2546e-05 - acc: 1.0000 - val_loss: 1.1921e-07 - val_acc: 1.0000\n",
      "Epoch 7/10\n",
      "69/69 [==============================] - 0s 6ms/step - loss: 1.5196e-06 - acc: 1.0000 - val_loss: 1.1921e-07 - val_acc: 1.0000\n",
      "Epoch 8/10\n",
      "69/69 [==============================] - 0s 6ms/step - loss: 4.2236e-06 - acc: 1.0000 - val_loss: 1.1921e-07 - val_acc: 1.0000\n",
      "Epoch 9/10\n",
      "69/69 [==============================] - 0s 6ms/step - loss: 0.0776 - acc: 0.9855 - val_loss: 1.1921e-07 - val_acc: 1.0000\n",
      "Epoch 10/10\n",
      "69/69 [==============================] - 0s 6ms/step - loss: 0.0724 - acc: 0.9855 - val_loss: 1.1921e-07 - val_acc: 1.0000\n",
      "Fine Classifier 9 Error: 0\n",
      "Train on 105 samples, validate on 13 samples\n",
      "Epoch 1/5\n",
      "105/105 [==============================] - 4s 39ms/step - loss: 1.3895 - acc: 0.7905 - val_loss: 0.2768 - val_acc: 0.8462\n",
      "Epoch 2/5\n",
      "105/105 [==============================] - 1s 6ms/step - loss: 0.0072 - acc: 1.0000 - val_loss: 0.1451 - val_acc: 0.9231\n",
      "Epoch 3/5\n",
      "105/105 [==============================] - 1s 6ms/step - loss: 0.0194 - acc: 0.9905 - val_loss: 0.0249 - val_acc: 1.0000\n",
      "Epoch 4/5\n",
      "105/105 [==============================] - 1s 6ms/step - loss: 0.0958 - acc: 0.9810 - val_loss: 0.2209 - val_acc: 0.9231\n",
      "Epoch 5/5\n",
      "105/105 [==============================] - 1s 5ms/step - loss: 0.0203 - acc: 0.9810 - val_loss: 0.3395 - val_acc: 0.9231\n",
      "Train on 105 samples, validate on 13 samples\n",
      "Epoch 6/10\n",
      "105/105 [==============================] - 4s 41ms/step - loss: 0.0197 - acc: 0.9905 - val_loss: 0.2874 - val_acc: 0.9231\n",
      "Epoch 7/10\n",
      "105/105 [==============================] - 1s 5ms/step - loss: 9.5729e-04 - acc: 1.0000 - val_loss: 0.2629 - val_acc: 0.9231\n",
      "Epoch 8/10\n",
      "105/105 [==============================] - 1s 6ms/step - loss: 8.8296e-05 - acc: 1.0000 - val_loss: 0.2487 - val_acc: 0.9231\n",
      "Epoch 9/10\n",
      "105/105 [==============================] - 1s 5ms/step - loss: 0.1002 - acc: 0.9810 - val_loss: 0.2372 - val_acc: 0.9231\n",
      "Epoch 10/10\n",
      "105/105 [==============================] - 1s 6ms/step - loss: 1.3810e-05 - acc: 1.0000 - val_loss: 0.1893 - val_acc: 0.9231\n",
      "Fine Classifier 10 Error: 0\n",
      "Train on 109 samples, validate on 12 samples\n",
      "Epoch 1/5\n",
      "109/109 [==============================] - 4s 35ms/step - loss: 1.3733 - acc: 0.7615 - val_loss: 0.2989 - val_acc: 0.8333\n",
      "Epoch 2/5\n",
      "109/109 [==============================] - 1s 5ms/step - loss: 0.0033 - acc: 1.0000 - val_loss: 0.6475 - val_acc: 0.8333\n",
      "Epoch 3/5\n",
      "109/109 [==============================] - 1s 5ms/step - loss: 0.0054 - acc: 1.0000 - val_loss: 0.7185 - val_acc: 0.8333\n",
      "Epoch 4/5\n",
      "109/109 [==============================] - 1s 5ms/step - loss: 8.9715e-06 - acc: 1.0000 - val_loss: 0.5354 - val_acc: 0.8333\n",
      "Epoch 5/5\n",
      "109/109 [==============================] - 1s 5ms/step - loss: 0.0010 - acc: 1.0000 - val_loss: 0.4440 - val_acc: 0.9167\n",
      "Train on 109 samples, validate on 12 samples\n",
      "Epoch 6/10\n",
      "109/109 [==============================] - 4s 41ms/step - loss: 1.1127e-05 - acc: 1.0000 - val_loss: 0.4440 - val_acc: 0.9167\n",
      "Epoch 7/10\n",
      "109/109 [==============================] - 1s 5ms/step - loss: 8.2048e-05 - acc: 1.0000 - val_loss: 0.4442 - val_acc: 0.9167\n",
      "Epoch 8/10\n",
      "109/109 [==============================] - 1s 5ms/step - loss: 0.0063 - acc: 1.0000 - val_loss: 0.4518 - val_acc: 0.9167\n",
      "Epoch 9/10\n",
      "109/109 [==============================] - 1s 5ms/step - loss: 1.0704e-05 - acc: 1.0000 - val_loss: 0.4595 - val_acc: 0.9167\n",
      "Epoch 10/10\n",
      "109/109 [==============================] - 1s 5ms/step - loss: 2.0250e-06 - acc: 1.0000 - val_loss: 0.4636 - val_acc: 0.9167\n",
      "Fine Classifier 11 Error: 0\n",
      "Train on 231 samples, validate on 26 samples\n",
      "Epoch 1/5\n",
      "231/231 [==============================] - 7s 30ms/step - loss: 0.8558 - acc: 0.8225 - val_loss: 0.5854 - val_acc: 0.9231\n",
      "Epoch 2/5\n",
      "231/231 [==============================] - 1s 5ms/step - loss: 0.0027 - acc: 1.0000 - val_loss: 0.6967 - val_acc: 0.9231\n",
      "Epoch 3/5\n",
      "231/231 [==============================] - 1s 5ms/step - loss: 0.0023 - acc: 1.0000 - val_loss: 0.6210 - val_acc: 0.9231\n",
      "Epoch 4/5\n",
      "231/231 [==============================] - 1s 5ms/step - loss: 0.0032 - acc: 1.0000 - val_loss: 0.4049 - val_acc: 0.9231\n",
      "Epoch 5/5\n",
      "231/231 [==============================] - 1s 5ms/step - loss: 9.7767e-04 - acc: 1.0000 - val_loss: 0.3674 - val_acc: 0.9231\n",
      "Train on 231 samples, validate on 26 samples\n",
      "Epoch 6/10\n",
      "231/231 [==============================] - 5s 21ms/step - loss: 1.6187e-04 - acc: 1.0000 - val_loss: 0.3679 - val_acc: 0.9231\n",
      "Epoch 7/10\n",
      "231/231 [==============================] - 1s 5ms/step - loss: 0.0078 - acc: 0.9957 - val_loss: 0.3677 - val_acc: 0.9231\n",
      "Epoch 8/10\n",
      "231/231 [==============================] - 1s 5ms/step - loss: 0.0013 - acc: 1.0000 - val_loss: 0.3673 - val_acc: 0.9231\n",
      "Epoch 9/10\n",
      "231/231 [==============================] - 1s 5ms/step - loss: 2.9615e-04 - acc: 1.0000 - val_loss: 0.3645 - val_acc: 0.9231\n",
      "Epoch 10/10\n",
      "231/231 [==============================] - 1s 5ms/step - loss: 5.6133e-04 - acc: 1.0000 - val_loss: 0.3637 - val_acc: 0.9231\n",
      "Fine Classifier 12 Error: 0\n",
      "Train on 209 samples, validate on 23 samples\n",
      "Epoch 1/5\n",
      "209/209 [==============================] - 5s 23ms/step - loss: 0.9009 - acc: 0.8469 - val_loss: 0.0102 - val_acc: 1.0000\n",
      "Epoch 2/5\n",
      "209/209 [==============================] - 1s 5ms/step - loss: 0.3590 - acc: 0.9043 - val_loss: 0.6411 - val_acc: 0.8261\n",
      "Epoch 3/5\n",
      "209/209 [==============================] - 1s 5ms/step - loss: 0.0055 - acc: 0.9952 - val_loss: 0.0248 - val_acc: 1.0000\n",
      "Epoch 4/5\n",
      "209/209 [==============================] - 1s 6ms/step - loss: 5.4128e-06 - acc: 1.0000 - val_loss: 0.0717 - val_acc: 0.9565\n",
      "Epoch 5/5\n",
      "209/209 [==============================] - 1s 5ms/step - loss: 1.0807e-05 - acc: 1.0000 - val_loss: 0.0857 - val_acc: 0.9565\n",
      "Train on 209 samples, validate on 23 samples\n",
      "Epoch 6/10\n",
      "209/209 [==============================] - 5s 23ms/step - loss: 0.0771 - acc: 0.9952 - val_loss: 0.0857 - val_acc: 0.9565\n",
      "Epoch 7/10\n",
      "209/209 [==============================] - 1s 5ms/step - loss: 0.0713 - acc: 0.9904 - val_loss: 1.9417e-05 - val_acc: 1.0000\n",
      "Epoch 8/10\n",
      "209/209 [==============================] - 1s 5ms/step - loss: 0.1637 - acc: 0.9761 - val_loss: 0.0412 - val_acc: 0.9565\n",
      "Epoch 9/10\n",
      "209/209 [==============================] - 1s 6ms/step - loss: 0.0897 - acc: 0.9713 - val_loss: 0.0097 - val_acc: 1.0000\n",
      "Epoch 10/10\n",
      "209/209 [==============================] - 1s 5ms/step - loss: 5.3889e-04 - acc: 1.0000 - val_loss: 0.5159 - val_acc: 0.8696\n",
      "Fine Classifier 13 Error: 0\n",
      "Train on 246 samples, validate on 28 samples\n",
      "Epoch 1/5\n",
      "246/246 [==============================] - 5s 21ms/step - loss: 0.8072 - acc: 0.8496 - val_loss: 1.3220 - val_acc: 0.8214\n",
      "Epoch 2/5\n",
      "246/246 [==============================] - 1s 5ms/step - loss: 0.0436 - acc: 0.9756 - val_loss: 1.1342 - val_acc: 0.8214\n",
      "Epoch 3/5\n",
      "246/246 [==============================] - 1s 5ms/step - loss: 0.0552 - acc: 0.9837 - val_loss: 1.5412 - val_acc: 0.8571\n",
      "Epoch 4/5\n",
      "246/246 [==============================] - 1s 5ms/step - loss: 0.1761 - acc: 0.9512 - val_loss: 2.0558 - val_acc: 0.8571\n",
      "Epoch 5/5\n",
      "246/246 [==============================] - 1s 5ms/step - loss: 0.1108 - acc: 0.9593 - val_loss: 1.0261 - val_acc: 0.8571\n",
      "Train on 246 samples, validate on 28 samples\n",
      "Epoch 6/10\n",
      "246/246 [==============================] - 4s 18ms/step - loss: 0.0550 - acc: 0.9837 - val_loss: 1.0955 - val_acc: 0.8214\n",
      "Epoch 7/10\n",
      "246/246 [==============================] - 1s 5ms/step - loss: 0.0175 - acc: 0.9919 - val_loss: 1.1722 - val_acc: 0.7857\n",
      "Epoch 8/10\n",
      "246/246 [==============================] - 1s 5ms/step - loss: 0.0244 - acc: 0.9959 - val_loss: 1.2249 - val_acc: 0.7857\n",
      "Epoch 9/10\n",
      "246/246 [==============================] - 1s 5ms/step - loss: 0.0201 - acc: 0.9959 - val_loss: 1.2379 - val_acc: 0.7857\n",
      "Epoch 10/10\n",
      "246/246 [==============================] - 1s 5ms/step - loss: 0.0024 - acc: 1.0000 - val_loss: 1.2668 - val_acc: 0.7857\n",
      "Fine Classifier 14 Error: 0\n",
      "Train on 163 samples, validate on 18 samples\n",
      "Epoch 1/5\n",
      "163/163 [==============================] - 5s 29ms/step - loss: 0.8103 - acc: 0.8589 - val_loss: 0.0235 - val_acc: 1.0000\n",
      "Epoch 2/5\n",
      "163/163 [==============================] - 1s 5ms/step - loss: 0.0014 - acc: 1.0000 - val_loss: 0.0015 - val_acc: 1.0000\n",
      "Epoch 3/5\n",
      "163/163 [==============================] - 1s 6ms/step - loss: 0.1645 - acc: 0.9877 - val_loss: 5.2605e-04 - val_acc: 1.0000\n",
      "Epoch 4/5\n",
      "163/163 [==============================] - 1s 6ms/step - loss: 1.1101 - acc: 0.8650 - val_loss: 0.0035 - val_acc: 1.0000\n",
      "Epoch 5/5\n",
      "163/163 [==============================] - 1s 5ms/step - loss: 0.1778 - acc: 0.9693 - val_loss: 0.0015 - val_acc: 1.0000\n",
      "Train on 163 samples, validate on 18 samples\n",
      "Epoch 6/10\n",
      "163/163 [==============================] - 5s 30ms/step - loss: 0.0615 - acc: 0.9755 - val_loss: 6.4706e-04 - val_acc: 1.0000\n",
      "Epoch 7/10\n",
      "163/163 [==============================] - 1s 5ms/step - loss: 0.0088 - acc: 1.0000 - val_loss: 4.9463e-04 - val_acc: 1.0000\n",
      "Epoch 8/10\n",
      "163/163 [==============================] - 1s 6ms/step - loss: 0.0106 - acc: 1.0000 - val_loss: 4.4915e-04 - val_acc: 1.0000\n",
      "Epoch 9/10\n",
      "163/163 [==============================] - 1s 6ms/step - loss: 0.0074 - acc: 1.0000 - val_loss: 3.7799e-04 - val_acc: 1.0000\n",
      "Epoch 10/10\n",
      "163/163 [==============================] - 1s 5ms/step - loss: 0.0356 - acc: 0.9939 - val_loss: 3.6199e-04 - val_acc: 1.0000\n",
      "Fine Classifier 15 Error: 0\n",
      "Train on 25 samples, validate on 3 samples\n",
      "Epoch 1/5\n",
      "25/25 [==============================] - 4s 167ms/step - loss: 3.4864 - acc: 0.2800 - val_loss: 2.3228 - val_acc: 0.6667\n",
      "Epoch 2/5\n",
      "25/25 [==============================] - 0s 7ms/step - loss: 0.7678 - acc: 1.0000 - val_loss: 0.1567 - val_acc: 1.0000\n",
      "Epoch 3/5\n",
      "25/25 [==============================] - 0s 8ms/step - loss: 0.0883 - acc: 1.0000 - val_loss: 0.0045 - val_acc: 1.0000\n",
      "Epoch 4/5\n",
      "25/25 [==============================] - 0s 8ms/step - loss: 0.0124 - acc: 1.0000 - val_loss: 1.5033e-04 - val_acc: 1.0000\n",
      "Epoch 5/5\n",
      "25/25 [==============================] - 0s 8ms/step - loss: 0.0018 - acc: 1.0000 - val_loss: 7.0533e-06 - val_acc: 1.0000\n",
      "Train on 25 samples, validate on 3 samples\n",
      "Epoch 6/10\n",
      "25/25 [==============================] - 4s 161ms/step - loss: 1.3916e-05 - acc: 1.0000 - val_loss: 7.0533e-06 - val_acc: 1.0000\n",
      "Epoch 7/10\n",
      "25/25 [==============================] - 0s 7ms/step - loss: 3.8827e-05 - acc: 1.0000 - val_loss: 7.0334e-06 - val_acc: 1.0000\n",
      "Epoch 8/10\n",
      "25/25 [==============================] - 0s 8ms/step - loss: 6.3546e-05 - acc: 1.0000 - val_loss: 7.0334e-06 - val_acc: 1.0000\n",
      "Epoch 9/10\n",
      "25/25 [==============================] - 0s 8ms/step - loss: 9.0581e-05 - acc: 1.0000 - val_loss: 7.0334e-06 - val_acc: 1.0000\n",
      "Epoch 10/10\n",
      "25/25 [==============================] - 0s 8ms/step - loss: 4.4662e-05 - acc: 1.0000 - val_loss: 7.0334e-06 - val_acc: 1.0000\n",
      "Fine Classifier 16 Error: 0\n",
      "Train on 13 samples, validate on 1 samples\n",
      "Epoch 1/5\n",
      "13/13 [==============================] - 3s 265ms/step - loss: 3.8780 - acc: 0.0000e+00 - val_loss: 4.3751 - val_acc: 0.0000e+00\n",
      "Epoch 2/5\n",
      "13/13 [==============================] - 0s 10ms/step - loss: 3.0171 - acc: 0.6923 - val_loss: 3.3225 - val_acc: 0.0000e+00\n",
      "Epoch 3/5\n",
      "13/13 [==============================] - 0s 11ms/step - loss: 1.6808 - acc: 1.0000 - val_loss: 1.9773 - val_acc: 1.0000\n",
      "Epoch 4/5\n",
      "13/13 [==============================] - 0s 8ms/step - loss: 0.6002 - acc: 1.0000 - val_loss: 0.8925 - val_acc: 1.0000\n",
      "Epoch 5/5\n",
      "13/13 [==============================] - 0s 11ms/step - loss: 0.1494 - acc: 1.0000 - val_loss: 0.2924 - val_acc: 1.0000\n",
      "Train on 13 samples, validate on 1 samples\n",
      "Epoch 6/10\n",
      "13/13 [==============================] - 4s 272ms/step - loss: 0.0229 - acc: 1.0000 - val_loss: 0.2914 - val_acc: 1.0000\n",
      "Epoch 7/10\n",
      "13/13 [==============================] - 0s 10ms/step - loss: 0.0206 - acc: 1.0000 - val_loss: 0.2901 - val_acc: 1.0000\n",
      "Epoch 8/10\n",
      "13/13 [==============================] - 0s 8ms/step - loss: 0.0194 - acc: 1.0000 - val_loss: 0.2885 - val_acc: 1.0000\n",
      "Epoch 9/10\n",
      "13/13 [==============================] - 0s 11ms/step - loss: 0.0175 - acc: 1.0000 - val_loss: 0.2867 - val_acc: 1.0000\n",
      "Epoch 10/10\n",
      "13/13 [==============================] - 0s 10ms/step - loss: 0.0208 - acc: 1.0000 - val_loss: 0.2846 - val_acc: 1.0000\n",
      "Fine Classifier 17 Error: 0\n",
      "Train on 51 samples, validate on 6 samples\n",
      "Epoch 1/5\n",
      "51/51 [==============================] - 5s 90ms/step - loss: 2.9618 - acc: 0.6078 - val_loss: 0.0196 - val_acc: 1.0000\n",
      "Epoch 2/5\n",
      "51/51 [==============================] - 0s 7ms/step - loss: 0.0564 - acc: 1.0000 - val_loss: 1.7385e-06 - val_acc: 1.0000\n",
      "Epoch 3/5\n",
      "51/51 [==============================] - 0s 7ms/step - loss: 3.2408e-05 - acc: 1.0000 - val_loss: 1.1921e-07 - val_acc: 1.0000\n",
      "Epoch 4/5\n",
      "51/51 [==============================] - 0s 6ms/step - loss: 2.3608e-07 - acc: 1.0000 - val_loss: 1.1921e-07 - val_acc: 1.0000\n",
      "Epoch 5/5\n",
      "51/51 [==============================] - 0s 7ms/step - loss: 1.1921e-07 - acc: 1.0000 - val_loss: 1.1921e-07 - val_acc: 1.0000\n",
      "Train on 51 samples, validate on 6 samples\n",
      "Epoch 6/10\n",
      "51/51 [==============================] - 4s 77ms/step - loss: 1.1921e-07 - acc: 1.0000 - val_loss: 1.1921e-07 - val_acc: 1.0000\n",
      "Epoch 7/10\n",
      "51/51 [==============================] - 0s 7ms/step - loss: 1.1921e-07 - acc: 1.0000 - val_loss: 1.1921e-07 - val_acc: 1.0000\n",
      "Epoch 8/10\n",
      "51/51 [==============================] - 0s 7ms/step - loss: 1.1921e-07 - acc: 1.0000 - val_loss: 1.1921e-07 - val_acc: 1.0000\n",
      "Epoch 9/10\n",
      "51/51 [==============================] - 0s 6ms/step - loss: 1.1921e-07 - acc: 1.0000 - val_loss: 1.1921e-07 - val_acc: 1.0000\n",
      "Epoch 10/10\n",
      "51/51 [==============================] - 0s 7ms/step - loss: 1.1921e-07 - acc: 1.0000 - val_loss: 1.1921e-07 - val_acc: 1.0000\n",
      "Fine Classifier 18 Error: 0\n",
      "Train on 29 samples, validate on 3 samples\n",
      "Epoch 1/5\n",
      "29/29 [==============================] - 4s 149ms/step - loss: 3.5040 - acc: 0.3448 - val_loss: 1.2028 - val_acc: 0.6667\n",
      "Epoch 2/5\n",
      "29/29 [==============================] - 0s 7ms/step - loss: 0.9206 - acc: 1.0000 - val_loss: 0.0369 - val_acc: 1.0000\n",
      "Epoch 3/5\n",
      "29/29 [==============================] - 0s 7ms/step - loss: 0.0220 - acc: 1.0000 - val_loss: 2.2097e-04 - val_acc: 1.0000\n",
      "Epoch 4/5\n",
      "29/29 [==============================] - 0s 7ms/step - loss: 1.9215e-04 - acc: 1.0000 - val_loss: 1.4901e-06 - val_acc: 1.0000\n",
      "Epoch 5/5\n",
      "29/29 [==============================] - 0s 7ms/step - loss: 1.2283e-05 - acc: 1.0000 - val_loss: 1.1921e-07 - val_acc: 1.0000\n",
      "Train on 29 samples, validate on 3 samples\n",
      "Epoch 6/10\n",
      "29/29 [==============================] - 4s 131ms/step - loss: 9.0230e-07 - acc: 1.0000 - val_loss: 1.1921e-07 - val_acc: 1.0000\n",
      "Epoch 7/10\n",
      "29/29 [==============================] - 0s 7ms/step - loss: 2.8447e-06 - acc: 1.0000 - val_loss: 1.1921e-07 - val_acc: 1.0000\n",
      "Epoch 8/10\n",
      "29/29 [==============================] - 0s 7ms/step - loss: 4.3984e-07 - acc: 1.0000 - val_loss: 1.1921e-07 - val_acc: 1.0000\n",
      "Epoch 9/10\n",
      "29/29 [==============================] - 0s 7ms/step - loss: 7.0909e-07 - acc: 1.0000 - val_loss: 1.1921e-07 - val_acc: 1.0000\n",
      "Epoch 10/10\n",
      "29/29 [==============================] - 0s 7ms/step - loss: 4.1929e-07 - acc: 1.0000 - val_loss: 1.1921e-07 - val_acc: 1.0000\n",
      "Fine Classifier 19 Error: 0\n"
     ]
    }
   ],
   "source": [
    "for i in range(coarse_categories):\n",
    "    index= 0\n",
    "    step = 5\n",
    "    stop = 5\n",
    "    \n",
    "    # Get all training data for the coarse category\n",
    "    ix = np.where([(y_train[:,j]==1) for j in [k for k, e in enumerate(fine2coarse[:,i]) if e != 0]])[1]\n",
    "    x_tix = x_train[ix]\n",
    "    y_tix = y_train[ix]\n",
    "    \n",
    "    # Get all validation data for the coarse category\n",
    "    ix_v = np.where([(y_val[:,j]==1) for j in [k for k, e in enumerate(fine2coarse[:,i]) if e != 0]])[1]\n",
    "    x_vix = x_val[ix_v]\n",
    "    y_vix = y_val[ix_v]\n",
    "    \n",
    "    while index < stop:\n",
    "        history = fine_models['models'][i].fit(x_tix, y_tix, batch_size=batch, initial_epoch=index, epochs=index+step, validation_data=(x_vix, y_vix))\n",
    "        index += step\n",
    "    train_histo_vis(history)\n",
    "    \n",
    "    fine_models['models'][i].compile(optimizer=sgd_fine, loss='categorical_crossentropy', metrics=['accuracy'])\n",
    "    stop = 10\n",
    "\n",
    "    while index < stop:\n",
    "        history = fine_models['models'][i].fit(x_tix, y_tix, batch_size=batch, initial_epoch=index, epochs=index+step, validation_data=(x_vix, y_vix))\n",
    "        index += step\n",
    "    train_histo_vis(history)\n",
    "        \n",
    "    yh_f = fine_models['models'][i].predict(x_val[ix_v], batch_size=batch)\n",
    "    print('Fine Classifier '+str(i)+' Error: '+str(get_error(y_val[ix_v],yh_f))) "
   ]
  },
  {
   "cell_type": "markdown",
   "metadata": {},
   "source": [
    "## Probabilistic Averaging"
   ]
  },
  {
   "cell_type": "markdown",
   "metadata": {},
   "source": [
    "def eval_hdcnn(X, y):\n",
    "    yh = np.zeros(np.shape(y))\n",
    "    \n",
    "    yh_s = model.predict(X, batch_size=batch)\n",
    "    \n",
    "    print('Single Classifier Error: '+str(get_error(y,yh_s)))\n",
    "    \n",
    "    yh_c = model_c.predict(X, batch_size=batch)\n",
    "    y_c = np.dot(y,fine2coarse)\n",
    "    \n",
    "    print('Coarse Classifier Error: '+str(get_error(y_c,yh_c)))\n",
    "\n",
    "    for i in range(coarse_categories):\n",
    "        if i%5 == 0:\n",
    "            print(\"Evaluating Fine Classifier: \", str(i))\n",
    "        #fine_models['yhf'][i] = fine_models['models'][i].predict(X, batch_size=batch)\n",
    "        yh += np.multiply(yh_c[:,i].reshape((len(y)),1), fine_models['yhf'][i])\n",
    "    \n",
    "    print('Overall Error: '+str(get_error(y,yh)))\n",
    "    return yh"
   ]
  },
  {
   "cell_type": "markdown",
   "metadata": {},
   "source": [
    "yh = eval_hdcnn(x_val,y_val)"
   ]
  },
  {
   "cell_type": "code",
   "execution_count": 34,
   "metadata": {},
   "outputs": [
    {
     "name": "stdout",
     "output_type": "stream",
     "text": [
      "Single Classifier Error: 0\n",
      "Coarse Classifier Error: 0\n",
      "Evaluating Fine Classifier: 0\n",
      "Evaluating Fine Classifier: 5\n",
      "Evaluating Fine Classifier: 10\n",
      "Evaluating Fine Classifier: 15\n",
      "Overall Error: 0\n"
     ]
    }
   ],
   "source": [
    "X = x_val; y = y_val\n",
    "\n",
    "yh = np.zeros(np.shape(y))\n",
    "\n",
    "yh_s = model.predict(X, batch_size=batch)\n",
    "\n",
    "print('Single Classifier Error: '+str(get_error(y,yh_s)))\n",
    "\n",
    "yh_c = model_c.predict(X, batch_size=batch)\n",
    "y_c = np.dot(y,fine2coarse)\n",
    "\n",
    "print('Coarse Classifier Error: '+str(get_error(y_c,yh_c)))\n",
    "\n",
    "for i in range(coarse_categories):\n",
    "    if i%5 == 0:\n",
    "        print(\"Evaluating Fine Classifier: \"+ str(i))\n",
    "    fine_models['yhf'][i] = fine_models['models'][i].predict(X, batch_size=batch)\n",
    "    yh += np.multiply(yh_c[:,i].reshape((len(y)),1), fine_models['yhf'][i])\n",
    "\n",
    "print('Overall Error: '+str(get_error(y,yh)))"
   ]
  },
  {
   "cell_type": "code",
   "execution_count": 35,
   "metadata": {},
   "outputs": [
    {
     "data": {
      "text/plain": [
       "0"
      ]
     },
     "execution_count": 35,
     "metadata": {},
     "output_type": "execute_result"
    }
   ],
   "source": [
    "# Get error function: Debug\n",
    "yht = np.zeros(np.shape(yh))\n",
    "yht[np.arange(len(yh)), yh.argmax(1)] = 1\n",
    "# Evaluate Error\n",
    "error = np.count_nonzero(np.count_nonzero(y-yht,1))/len(y)\n",
    "error"
   ]
  },
  {
   "cell_type": "code",
   "execution_count": 37,
   "metadata": {},
   "outputs": [
    {
     "data": {
      "text/plain": [
       "41"
      ]
     },
     "execution_count": 37,
     "metadata": {},
     "output_type": "execute_result"
    }
   ],
   "source": [
    "np.count_nonzero(np.count_nonzero(y-yht,1))"
   ]
  }
 ],
 "metadata": {
  "kernelspec": {
   "display_name": "Python 2",
   "language": "python",
   "name": "python2"
  },
  "language_info": {
   "codemirror_mode": {
    "name": "ipython",
    "version": 2
   },
   "file_extension": ".py",
   "mimetype": "text/x-python",
   "name": "python",
   "nbconvert_exporter": "python",
   "pygments_lexer": "ipython2",
   "version": "2.7.12"
  },
  "toc": {
   "colors": {
    "hover_highlight": "#DAA520",
    "running_highlight": "#FF0000",
    "selected_highlight": "#FFD700"
   },
   "moveMenuLeft": true,
   "nav_menu": {
    "height": "12px",
    "width": "252px"
   },
   "navigate_menu": true,
   "number_sections": true,
   "sideBar": true,
   "threshold": 4,
   "toc_cell": false,
   "toc_section_display": "block",
   "toc_window_display": false,
   "widenNotebook": false
  }
 },
 "nbformat": 4,
 "nbformat_minor": 2
}
