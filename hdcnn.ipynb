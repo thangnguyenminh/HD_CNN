{
 "cells": [
  {
   "cell_type": "markdown",
   "metadata": {},
   "source": [
    "# Hierarchically Deep Convolutional Neural Network For Image Recognition"
   ]
  },
  {
   "cell_type": "markdown",
   "metadata": {},
   "source": [
    "## Setup and Imports"
   ]
  },
  {
   "cell_type": "markdown",
   "metadata": {},
   "source": [
    "**Import Packages**"
   ]
  },
  {
   "cell_type": "code",
   "execution_count": 1,
   "metadata": {},
   "outputs": [
    {
     "name": "stderr",
     "output_type": "stream",
     "text": [
      "/usr/local/lib/python2.7/dist-packages/h5py/__init__.py:36: FutureWarning: Conversion of the second argument of issubdtype from `float` to `np.floating` is deprecated. In future, it will be treated as `np.float64 == np.dtype(float).type`.\n",
      "  from ._conv import register_converters as _register_converters\n",
      "Using TensorFlow backend.\n"
     ]
    }
   ],
   "source": [
    "import keras as kr\n",
    "import numpy as np\n",
    "import tensorflow as tf\n",
    "from keras import backend as K\n",
    "from keras.utils import np_utils\n",
    "\n",
    "from keras.datasets import cifar100\n",
    "\n",
    "from sklearn.model_selection import train_test_split\n",
    "import cv2 \n",
    "\n",
    "from random import randint\n",
    "import time\n",
    "import os\n",
    "\n",
    "import matplotlib.pyplot as plt"
   ]
  },
  {
   "cell_type": "code",
   "execution_count": 2,
   "metadata": {},
   "outputs": [],
   "source": [
    "from keras.backend.tensorflow_backend import set_session\n",
    "import tensorflow as tf\n",
    "config = tf.ConfigProto()\n",
    "config.gpu_options.allow_growth = True  # Don't pre-allocate memory; allocate as-needed\n",
    "config.log_device_placement = True  # to log device placement (on which device the operation ran)\n",
    "#config.gpu_options.per_process_gpu_memory_fraction = 0.3 # Only allow a total fraction the GPU memory to be allocated\n",
    "sess = tf.Session(config=config)\n",
    "set_session(sess)  # set this TensorFlow session as the default session for Keras"
   ]
  },
  {
   "cell_type": "code",
   "execution_count": 3,
   "metadata": {},
   "outputs": [],
   "source": [
    "if not os.path.exists('data/models/'):\n",
    "    os.mkdir('data/models')"
   ]
  },
  {
   "cell_type": "markdown",
   "metadata": {},
   "source": [
    "**Define Global Variables**"
   ]
  },
  {
   "cell_type": "code",
   "execution_count": 4,
   "metadata": {},
   "outputs": [],
   "source": [
    "# The number of coarse categories\n",
    "coarse_categories = 20\n",
    "\n",
    "# The number of fine categories\n",
    "fine_categories = 100"
   ]
  },
  {
   "cell_type": "markdown",
   "metadata": {},
   "source": [
    "## Import and Preprocess Dataset"
   ]
  },
  {
   "cell_type": "markdown",
   "metadata": {},
   "source": [
    "**Import Cifar100 Data Set**"
   ]
  },
  {
   "cell_type": "code",
   "execution_count": 5,
   "metadata": {},
   "outputs": [],
   "source": [
    "(X, y_c), (x_test, y_c_test) = cifar100.load_data(label_mode='coarse')\n",
    "(X, y), (x_test, y_test) = cifar100.load_data(label_mode='fine')"
   ]
  },
  {
   "cell_type": "markdown",
   "metadata": {},
   "source": [
    "**Fine-To-Coarse Mapping**\n",
    "\n",
    "(Ideally, this would be done through spectral clustering as opposed to hard-coding)"
   ]
  },
  {
   "cell_type": "code",
   "execution_count": 6,
   "metadata": {},
   "outputs": [],
   "source": [
    "fine2coarse = np.zeros((fine_categories,coarse_categories))\n",
    "for i in range(coarse_categories):\n",
    "    index = np.where(y_c_test[:,0] == i)[0]\n",
    "    fine_cat = np.unique([y_test[j,0] for j in index])\n",
    "    for j in fine_cat:\n",
    "        fine2coarse[j,i] = 1\n"
   ]
  },
  {
   "cell_type": "code",
   "execution_count": 7,
   "metadata": {},
   "outputs": [],
   "source": [
    "y_c = 0; # Clear y_c in interest of saving mem\n",
    "y_c_test=0;"
   ]
  },
  {
   "cell_type": "code",
   "execution_count": 8,
   "metadata": {},
   "outputs": [],
   "source": [
    "################################################################################\n",
    "#    Title: One Hot Encoding\n",
    "################################################################################\n",
    "#    Description: \n",
    "#        This function extends a matrix to one-hot encoding\n",
    "#    \n",
    "#    Parameters:\n",
    "#        y    Array of label values\n",
    "# \n",
    "#    Returns:\n",
    "#        y_new    One hot encoded array of labels\n",
    "################################################################################\n",
    "def one_hot(y):\n",
    "    n_values = np.max(y) + 1\n",
    "    y_new = np.eye(n_values)[y[:,0]]\n",
    "    return y_new"
   ]
  },
  {
   "cell_type": "code",
   "execution_count": 9,
   "metadata": {},
   "outputs": [
    {
     "name": "stdout",
     "output_type": "stream",
     "text": [
      "(50000, 100)\n"
     ]
    }
   ],
   "source": [
    "y=one_hot(y)\n",
    "y_test=one_hot(y_test)\n",
    "print(np.shape(y))"
   ]
  },
  {
   "cell_type": "markdown",
   "metadata": {},
   "source": [
    "**Apply ZCA Whitening**"
   ]
  },
  {
   "cell_type": "code",
   "execution_count": null,
   "metadata": {},
   "outputs": [],
   "source": [
    "################################################################################\n",
    "#    Title: ZCA\n",
    "################################################################################\n",
    "#    Description: \n",
    "#        This function applies ZCA Whitening to the image set\n",
    "#    \n",
    "#    Parameters:\n",
    "#        x_1           Array of MxNxC images to compute the ZCA Whitening\n",
    "#        x_2           Array of MxNxC images to apply the ZCA transform\n",
    "#        num_batch    Number of batches to do the computation\n",
    "# \n",
    "#    Returns:\n",
    "#        An array of MxNxC zca whitened images\n",
    "################################################################################\n",
    "def zca(x_1, x_2, epsilon=1e-5):\n",
    "        \n",
    "    with tf.name_scope('ZCA'):\n",
    "        \n",
    "        x1 = tf.placeholder(tf.float64, shape=np.shape(x_1), name='placeholder_x1')\n",
    "        x2 = tf.placeholder(tf.float64, shape=np.shape(x_2), name='placeholder_x2')\n",
    "        \n",
    "        flatx = tf.cast(tf.reshape(x1, (-1, np.prod(x_1.shape[-3:])),name=\"reshape_flat\"),tf.float64,name=\"flatx\")\n",
    "        sigma = tf.tensordot(tf.transpose(flatx),flatx, 1,name=\"sigma\") / tf.cast(tf.shape(flatx)[0],tf.float64) ### N-1 or N?\n",
    "        s, u, v = tf.svd(sigma,name=\"svd\")\n",
    "        pc = tf.tensordot(tf.tensordot(u,tf.diag(1. / tf.sqrt(s+epsilon)),1,name=\"inner_dot\"),tf.transpose(u),1, name=\"pc\")\n",
    "        \n",
    "        net1 = tf.tensordot(flatx, pc,1,name=\"whiten1\")\n",
    "        net1 = tf.reshape(net1,np.shape(x_1), name=\"output1\")\n",
    "        \n",
    "        flatx2 = tf.cast(tf.reshape(x2, (-1, np.prod(x_2.shape[-3:])),name=\"reshape_flat2\"),tf.float64,name=\"flatx2\")\n",
    "        net2 = tf.tensordot(flatx2, pc,1,name=\"whiten2\")\n",
    "        net2 = tf.reshape(net2,np.shape(x_2), name=\"output2\")\n",
    "        \n",
    "    with tf.Session() as sess:\n",
    "            sess.run(tf.global_variables_initializer())\n",
    "            x_1,x_2 = sess.run([net1,net2], feed_dict={x1: x_1, x2: x_2})    \n",
    "    return x_1,x_2"
   ]
  },
  {
   "cell_type": "code",
   "execution_count": null,
   "metadata": {},
   "outputs": [],
   "source": [
    "time1 = time.time()\n",
    "X,x_test = zca(X,x_test)\n",
    "time2 = time.time()\n",
    "print('Time Elapsed - ZCA Whitening: '+str(time2-time1));"
   ]
  },
  {
   "cell_type": "markdown",
   "metadata": {},
   "source": [
    "**Split Training set into Training and Validation sets**"
   ]
  },
  {
   "cell_type": "code",
   "execution_count": 10,
   "metadata": {},
   "outputs": [],
   "source": [
    "x_train, x_val, y_train, y_val = train_test_split(X, y, test_size=.1, random_state=0)\n",
    "X = 0\n",
    "y = 0"
   ]
  },
  {
   "cell_type": "code",
   "execution_count": 11,
   "metadata": {},
   "outputs": [],
   "source": [
    "def resize_cifar100_data(X_train, Y_train, X_valid, Y_valid, img_rows, img_cols):\n",
    "    \n",
    "    nb_train_samples = 3000 # 3000 training samples\n",
    "    nb_valid_samples = 100 # 100 validation samples\n",
    "    # Load cifar10 training and validation sets\n",
    "    # (X_train, Y_train), (X_valid, Y_valid) = cifar10.load_data()\n",
    "\n",
    "    # Resize trainging images\n",
    "    if K.image_dim_ordering() == 'th':\n",
    "        X_train = np.array([cv2.resize(img.transpose(1,2,0), (img_rows,img_cols)).transpose(2,0,1) for img in X_train[:nb_train_samples,:,:,:]])\n",
    "        X_valid = np.array([cv2.resize(img.transpose(1,2,0), (img_rows,img_cols)).transpose(2,0,1) for img in X_valid[:nb_valid_samples,:,:,:]])\n",
    "    else:\n",
    "        X_train = np.array([cv2.resize(img, (img_rows,img_cols)) for img in X_train[:nb_train_samples,:,:,:]])\n",
    "        X_valid = np.array([cv2.resize(img, (img_rows,img_cols)) for img in X_valid[:nb_valid_samples,:,:,:]])\n",
    "\n",
    "    # Transform targets to keras compatible format\n",
    "#     Y_train = np_utils.to_categorical(Y_train[:], num_classes)\n",
    "#     Y_valid = np_utils.to_categorical(Y_valid[:], num_classes)\n",
    "    Y_train = Y_train[:nb_train_samples]\n",
    "    Y_valid = Y_valid[:nb_valid_samples]\n",
    "    \n",
    "    return X_train, Y_train, X_valid, Y_valid"
   ]
  },
  {
   "cell_type": "code",
   "execution_count": 12,
   "metadata": {},
   "outputs": [],
   "source": [
    "x_train, y_train, x_val, y_val = resize_cifar100_data(x_train, y_train, x_val, y_val, 224, 224)"
   ]
  },
  {
   "cell_type": "markdown",
   "metadata": {},
   "source": [
    "**Flip, pad and randomly crop each photo**"
   ]
  },
  {
   "cell_type": "code",
   "execution_count": null,
   "metadata": {},
   "outputs": [],
   "source": [
    "################################################################################\n",
    "#    Title: Preprocess Img\n",
    "################################################################################\n",
    "#    Description: \n",
    "#        This function pads images by 4 pixels, randomly crops them, then\n",
    "#        randomly flips them\n",
    "#    \n",
    "#    Parameters:\n",
    "#        x_1           Array of MxNxC images to compute the ZCA Whitening\n",
    "#        x_2           Array of MxNxC images to apply the ZCA transform\n",
    "#        num_batch    Number of batches to do the computation\n",
    "# \n",
    "#    Returns:\n",
    "#        An array of MxNxC zca whitened images\n",
    "################################################################################\n",
    "def preprocess_img(X,y):\n",
    "        \n",
    "    with tf.name_scope('Preproc'):\n",
    "        \n",
    "        images = tf.placeholder(tf.float64, shape=np.shape(X))\n",
    "        labels = tf.placeholder(tf.float64, shape=np.shape(y))\n",
    "        \n",
    "        net = tf.map_fn(lambda img: tf.image.flip_left_right(img), images)\n",
    "        net = tf.map_fn(lambda img: tf.image.rot90(img), net)\n",
    "        net = tf.image.resize_image_with_crop_or_pad(net,40,40)\n",
    "        net = tf.map_fn(lambda img: tf.random_crop(img, [32,32,3]), net)\n",
    "\n",
    "        net1 = tf.image.resize_image_with_crop_or_pad(images,40,40)\n",
    "        net1 = tf.map_fn(lambda img: tf.random_crop(img, [32,32,3]), net1)\n",
    "        \n",
    "        net = tf.concat([net, net1],0)\n",
    "        net = tf.random_shuffle(net, seed=0)\n",
    "        net_labels = tf.concat([labels, labels],0)\n",
    "        net_labels = tf.random_shuffle(net_labels,seed=0)\n",
    "        \n",
    "        net = tf.map_fn(lambda img: tf.image.random_flip_up_down(img), net)\n",
    "        \n",
    "    with tf.Session() as sess:\n",
    "            sess.run(tf.global_variables_initializer())\n",
    "            x_t,y_t = sess.run([net,net_labels], feed_dict={images: X, labels: y})    \n",
    "    return x_t,y_t\n"
   ]
  },
  {
   "cell_type": "code",
   "execution_count": null,
   "metadata": {},
   "outputs": [],
   "source": [
    "time1 = time.time()\n",
    "x_train,y_train = preprocess_img(x_train,y_train)\n",
    "time2 = time.time()\n",
    "print('Time Elapsed - Img Preprocessing: '+str(time2-time1));"
   ]
  },
  {
   "cell_type": "markdown",
   "metadata": {},
   "source": [
    "## Single Classifier Training"
   ]
  },
  {
   "cell_type": "markdown",
   "metadata": {},
   "source": [
    "**Constructing CNN**"
   ]
  },
  {
   "cell_type": "code",
   "execution_count": 13,
   "metadata": {},
   "outputs": [],
   "source": [
    "from keras import optimizers\n",
    "from keras.layers import Input, Conv2D, Dropout, MaxPooling2D, Flatten, Dense\n",
    "from keras.models import Model\n",
    "\n",
    "# in_layer = Input(shape=(32, 32, 3), dtype='float32', name='main_input')\n",
    "\n",
    "# net = Conv2D(384, 3, strides=1, padding='same', activation='elu')(in_layer)\n",
    "# net = MaxPooling2D((2, 2), padding='valid')(net)\n",
    "\n",
    "# net = Conv2D(384, 1, strides=1, padding='same', activation='elu')(net)\n",
    "# net = Conv2D(384, 2, strides=1, padding='same', activation='elu')(net)\n",
    "# net = Conv2D(640, 2, strides=1, padding='same', activation='elu')(net)\n",
    "# net = Conv2D(640, 2, strides=1, padding='same', activation='elu')(net)\n",
    "# net = Dropout(.2)(net)\n",
    "# net = MaxPooling2D((2, 2), padding='valid')(net)\n",
    "\n",
    "# net = Conv2D(640, 1, strides=1, padding='same', activation='elu')(net)\n",
    "# net = Conv2D(768, 2, strides=1, padding='same', activation='elu')(net)\n",
    "# net = Conv2D(768, 2, strides=1, padding='same', activation='elu')(net)\n",
    "# net = Conv2D(768, 2, strides=1, padding='same', activation='elu')(net)\n",
    "# net = Dropout(.3)(net)\n",
    "# net = MaxPooling2D((2, 2), padding='valid')(net)\n",
    "\n",
    "# net = Conv2D(768, 1, strides=1, padding='same', activation='elu')(net)\n",
    "# net = Conv2D(896, 2, strides=1, padding='same', activation='elu')(net)\n",
    "# net = Conv2D(896, 2, strides=1, padding='same', activation='elu')(net)\n",
    "# net = Dropout(.4)(net)\n",
    "# net = MaxPooling2D((2, 2), padding='valid')(net)\n",
    "\n",
    "# net = Conv2D(896, 3, strides=1, padding='same', activation='elu')(net)\n",
    "# net = Conv2D(1024, 2, strides=1, padding='same', activation='elu')(net)\n",
    "# net = Conv2D(1024, 2, strides=1, padding='same', activation='elu')(net)\n",
    "# net = Dropout(.5)(net)\n",
    "# net = MaxPooling2D((2, 2), padding='valid')(net)\n",
    "\n",
    "# net = Conv2D(1024, 1, strides=1, padding='same', activation='elu')(net)\n",
    "# net = Conv2D(1152, 2, strides=1, padding='same', activation='elu')(net)\n",
    "# net = Dropout(.6)(net)\n",
    "# net = MaxPooling2D((2, 2), padding='same')(net)\n",
    "\n",
    "# net = Flatten()(net)\n",
    "# net = Dense(1152, activation='elu')(net)\n",
    "# net = Dense(100, activation='softmax')(net)"
   ]
  },
  {
   "cell_type": "markdown",
   "metadata": {},
   "source": [
    "**Compile Model**"
   ]
  },
  {
   "cell_type": "code",
   "execution_count": 14,
   "metadata": {},
   "outputs": [],
   "source": [
    "from inception_v1 import InceptionV1 \n",
    "# NiN network\n",
    "# model = Model(inputs=in_layer,outputs=net)\n",
    "# Inception v1\n",
    "in_layer, net, model = InceptionV1(weights=None,classes=100) # classes = sum of all fine classes\n",
    "sgd_coarse = optimizers.SGD(lr=0.01, decay=1e-6, momentum=0.9, nesterov=True)\n",
    "model.compile(optimizer= sgd_coarse, loss='categorical_crossentropy', metrics=['accuracy'])"
   ]
  },
  {
   "cell_type": "code",
   "execution_count": null,
   "metadata": {},
   "outputs": [],
   "source": [
    "#model.load_weights('data/models/model_coarse'+str(30))"
   ]
  },
  {
   "cell_type": "markdown",
   "metadata": {},
   "source": [
    "# Training history visualization"
   ]
  },
  {
   "cell_type": "code",
   "execution_count": 15,
   "metadata": {},
   "outputs": [],
   "source": [
    "def train_histo_vis(history):\n",
    "    # Training history visualization\n",
    "    # Plot training & validation accuracy values\n",
    "    plt.plot(history.history['acc'])\n",
    "    plt.plot(history.history['val_acc'])\n",
    "    plt.title('Model accuracy')\n",
    "    plt.ylabel('Accuracy')\n",
    "    plt.xlabel('Epoch')\n",
    "    plt.legend(['Train', 'Test'], loc='upper left')\n",
    "    plt.show()\n",
    "\n",
    "    # Plot training & validation loss values\n",
    "    plt.plot(history.history['loss'])\n",
    "    plt.plot(history.history['val_loss'])\n",
    "    plt.title('Model loss')\n",
    "    plt.ylabel('Loss')\n",
    "    plt.xlabel('Epoch')\n",
    "    plt.legend(['Train', 'Test'], loc='upper left')\n",
    "    plt.show()"
   ]
  },
  {
   "cell_type": "markdown",
   "metadata": {},
   "source": [
    "**Train Model**"
   ]
  },
  {
   "cell_type": "code",
   "execution_count": 16,
   "metadata": {},
   "outputs": [],
   "source": [
    "tbCallBack = kr.callbacks.TensorBoard(log_dir='./data/graph/elu_drop/', histogram_freq=0, write_graph=True, write_images=True)"
   ]
  },
  {
   "cell_type": "code",
   "execution_count": 17,
   "metadata": {},
   "outputs": [],
   "source": [
    "batch = 32"
   ]
  },
  {
   "cell_type": "code",
   "execution_count": 18,
   "metadata": {},
   "outputs": [
    {
     "name": "stdout",
     "output_type": "stream",
     "text": [
      "WARNING:tensorflow:Variable *= will be deprecated. Use variable.assign_mul if you want assignment to the variable value or 'x = x * y' if you want a new python Tensor object.\n",
      "Train on 3000 samples, validate on 100 samples\n",
      "Epoch 1/5\n",
      "3000/3000 [==============================] - 13s 4ms/step - loss: 4.5710 - acc: 0.0367 - val_loss: 6.9480 - val_acc: 0.0200\n",
      "Epoch 2/5\n",
      "3000/3000 [==============================] - 9s 3ms/step - loss: 4.1876 - acc: 0.0683 - val_loss: 6.0416 - val_acc: 0.0300\n",
      "Epoch 3/5\n",
      "3000/3000 [==============================] - 9s 3ms/step - loss: 3.9489 - acc: 0.0907 - val_loss: 4.4793 - val_acc: 0.0400\n",
      "Epoch 4/5\n",
      "3000/3000 [==============================] - 9s 3ms/step - loss: 3.7080 - acc: 0.1250 - val_loss: 4.8530 - val_acc: 0.0400\n",
      "Epoch 5/5\n",
      "3000/3000 [==============================] - 9s 3ms/step - loss: 3.5087 - acc: 0.1590 - val_loss: 4.6174 - val_acc: 0.0400\n",
      "Train on 3000 samples, validate on 100 samples\n",
      "Epoch 6/10\n",
      "3000/3000 [==============================] - 9s 3ms/step - loss: 3.3322 - acc: 0.1873 - val_loss: 4.2110 - val_acc: 0.0900\n",
      "Epoch 7/10\n",
      "3000/3000 [==============================] - 9s 3ms/step - loss: 3.1004 - acc: 0.2307 - val_loss: 4.4987 - val_acc: 0.1400\n",
      "Epoch 8/10\n",
      "3000/3000 [==============================] - 9s 3ms/step - loss: 2.9627 - acc: 0.2460 - val_loss: 4.2205 - val_acc: 0.1000\n",
      "Epoch 9/10\n",
      "3000/3000 [==============================] - 9s 3ms/step - loss: 2.7395 - acc: 0.2810 - val_loss: 4.4592 - val_acc: 0.1300\n",
      "Epoch 10/10\n",
      "3000/3000 [==============================] - 9s 3ms/step - loss: 2.5493 - acc: 0.3250 - val_loss: 4.1561 - val_acc: 0.1300\n",
      "Train on 3000 samples, validate on 100 samples\n",
      "Epoch 11/15\n",
      "3000/3000 [==============================] - 9s 3ms/step - loss: 2.3436 - acc: 0.3857 - val_loss: 4.2374 - val_acc: 0.1700\n",
      "Epoch 12/15\n",
      "3000/3000 [==============================] - 9s 3ms/step - loss: 2.1194 - acc: 0.4393 - val_loss: 3.9296 - val_acc: 0.1900\n",
      "Epoch 13/15\n",
      "3000/3000 [==============================] - 9s 3ms/step - loss: 1.8779 - acc: 0.4960 - val_loss: 4.2754 - val_acc: 0.1200\n",
      "Epoch 14/15\n",
      "3000/3000 [==============================] - 9s 3ms/step - loss: 1.7543 - acc: 0.5257 - val_loss: 4.9343 - val_acc: 0.1600\n",
      "Epoch 15/15\n",
      "3000/3000 [==============================] - 9s 3ms/step - loss: 1.5285 - acc: 0.5833 - val_loss: 4.5303 - val_acc: 0.1000\n",
      "Train on 3000 samples, validate on 100 samples\n",
      "Epoch 16/20\n",
      "3000/3000 [==============================] - 9s 3ms/step - loss: 1.2794 - acc: 0.6497 - val_loss: 4.2608 - val_acc: 0.1700\n",
      "Epoch 17/20\n",
      "3000/3000 [==============================] - 9s 3ms/step - loss: 1.1224 - acc: 0.7017 - val_loss: 4.0613 - val_acc: 0.1800\n",
      "Epoch 18/20\n",
      "3000/3000 [==============================] - 9s 3ms/step - loss: 0.9538 - acc: 0.7473 - val_loss: 4.3445 - val_acc: 0.2000\n",
      "Epoch 19/20\n",
      "3000/3000 [==============================] - 9s 3ms/step - loss: 0.7373 - acc: 0.8153 - val_loss: 4.2851 - val_acc: 0.1600\n",
      "Epoch 20/20\n",
      "3000/3000 [==============================] - 9s 3ms/step - loss: 0.6287 - acc: 0.8420 - val_loss: 4.4587 - val_acc: 0.1600\n",
      "Train on 3000 samples, validate on 100 samples\n",
      "Epoch 21/25\n",
      "3000/3000 [==============================] - 9s 3ms/step - loss: 0.5051 - acc: 0.8810 - val_loss: 4.1093 - val_acc: 0.1900\n",
      "Epoch 22/25\n",
      "3000/3000 [==============================] - 9s 3ms/step - loss: 0.3754 - acc: 0.9177 - val_loss: 3.9598 - val_acc: 0.2100\n",
      "Epoch 23/25\n",
      "3000/3000 [==============================] - 9s 3ms/step - loss: 0.2828 - acc: 0.9407 - val_loss: 4.1121 - val_acc: 0.2400\n",
      "Epoch 24/25\n",
      "3000/3000 [==============================] - 9s 3ms/step - loss: 0.2998 - acc: 0.9350 - val_loss: 4.9939 - val_acc: 0.1300\n",
      "Epoch 25/25\n",
      "3000/3000 [==============================] - 9s 3ms/step - loss: 0.2288 - acc: 0.9593 - val_loss: 3.9393 - val_acc: 0.1600\n",
      "Train on 3000 samples, validate on 100 samples\n",
      "Epoch 26/30\n",
      "3000/3000 [==============================] - 9s 3ms/step - loss: 0.1584 - acc: 0.9760 - val_loss: 4.2493 - val_acc: 0.1800\n",
      "Epoch 27/30\n",
      "3000/3000 [==============================] - 9s 3ms/step - loss: 0.1561 - acc: 0.9693 - val_loss: 4.3102 - val_acc: 0.2100\n",
      "Epoch 28/30\n",
      "3000/3000 [==============================] - 9s 3ms/step - loss: 0.0775 - acc: 0.9947 - val_loss: 3.7919 - val_acc: 0.2700\n",
      "Epoch 29/30\n",
      "3000/3000 [==============================] - 9s 3ms/step - loss: 0.0443 - acc: 0.9963 - val_loss: 4.3425 - val_acc: 0.1700\n",
      "Epoch 30/30\n",
      "3000/3000 [==============================] - 9s 3ms/step - loss: 0.0691 - acc: 0.9917 - val_loss: 4.3244 - val_acc: 0.2100\n"
     ]
    }
   ],
   "source": [
    "index= 0\n",
    "step = 5\n",
    "stop = 30\n",
    "\n",
    "while index < stop:\n",
    "    history = model.fit(x_train, y_train, batch_size=batch, initial_epoch=index, epochs=index+step, validation_data=(x_val, y_val), callbacks=[tbCallBack])\n",
    "    index += step\n",
    "    model.save_weights('data/models/model_coarse'+str(index))\n",
    "save_index = index"
   ]
  },
  {
   "cell_type": "code",
   "execution_count": 19,
   "metadata": {},
   "outputs": [
    {
     "data": {
      "image/png": "[encoded data removed]",
      "text/plain": [
       "<Figure size 432x288 with 1 Axes>"
      ]
     },
     "metadata": {},
     "output_type": "display_data"
    },
    {
     "data": {
      "image/png": "[encoded data removed]",
      "text/plain": [
       "<Figure size 432x288 with 1 Axes>"
      ]
     },
     "metadata": {},
     "output_type": "display_data"
    }
   ],
   "source": [
    "train_histo_vis(history)"
   ]
  },
  {
   "cell_type": "markdown",
   "metadata": {},
   "source": [
    "### Load Most Recent Model"
   ]
  },
  {
   "cell_type": "code",
   "execution_count": 20,
   "metadata": {},
   "outputs": [],
   "source": [
    "sgd_fine = optimizers.SGD(lr=0.001, decay=1e-6, momentum=0.9, nesterov=True)"
   ]
  },
  {
   "cell_type": "code",
   "execution_count": 25,
   "metadata": {},
   "outputs": [
    {
     "name": "stdout",
     "output_type": "stream",
     "text": [
      "(0, 'main_input')\n",
      "(1, 'Conv2d_1a_7x7_conv')\n",
      "(2, 'Conv2d_1a_7x7_bn')\n",
      "(3, 'Conv2d_1a_7x7_act')\n",
      "(4, 'MaxPool_2a_3x3')\n",
      "(5, 'Conv2d_2b_1x1_conv')\n",
      "(6, 'Conv2d_2b_1x1_bn')\n",
      "(7, 'Conv2d_2b_1x1_act')\n",
      "(8, 'Conv2d_2c_3x3_conv')\n",
      "(9, 'Conv2d_2c_3x3_bn')\n",
      "(10, 'Conv2d_2c_3x3_act')\n",
      "(11, 'MaxPool_3a_3x3')\n",
      "(12, 'Mixed_3b_Branch_1_a_1x1_conv')\n",
      "(13, 'Mixed_3b_Branch_2_a_1x1_conv')\n",
      "(14, 'Mixed_3b_Branch_1_a_1x1_bn')\n",
      "(15, 'Mixed_3b_Branch_2_a_1x1_bn')\n",
      "(16, 'Mixed_3b_Branch_1_a_1x1_act')\n",
      "(17, 'Mixed_3b_Branch_2_a_1x1_act')\n",
      "(18, 'Mixed_3b_Branch_3_a_max')\n",
      "(19, 'Mixed_3b_Branch_0_a_1x1_conv')\n",
      "(20, 'Mixed_3b_Branch_1_b_3x3_conv')\n",
      "(21, 'Mixed_3b_Branch_2_b_3x3_conv')\n",
      "(22, 'Mixed_3b_Branch_3_b_1x1_conv')\n",
      "(23, 'Mixed_3b_Branch_0_a_1x1_bn')\n",
      "(24, 'Mixed_3b_Branch_1_b_3x3_bn')\n",
      "(25, 'Mixed_3b_Branch_2_b_3x3_bn')\n",
      "(26, 'Mixed_3b_Branch_3_b_1x1_bn')\n",
      "(27, 'Mixed_3b_Branch_0_a_1x1_act')\n",
      "(28, 'Mixed_3b_Branch_1_b_3x3_act')\n",
      "(29, 'Mixed_3b_Branch_2_b_3x3_act')\n",
      "(30, 'Mixed_3b_Branch_3_b_1x1_act')\n",
      "(31, 'Mixed_3b_Concatenated')\n",
      "(32, 'Mixed_3c_Branch_1_a_1x1_conv')\n",
      "(33, 'Mixed_3c_Branch_2_a_1x1_conv')\n",
      "(34, 'Mixed_3c_Branch_1_a_1x1_bn')\n",
      "(35, 'Mixed_3c_Branch_2_a_1x1_bn')\n",
      "(36, 'Mixed_3c_Branch_1_a_1x1_act')\n",
      "(37, 'Mixed_3c_Branch_2_a_1x1_act')\n",
      "(38, 'Mixed_3c_Branch_3_a_max')\n",
      "(39, 'Mixed_3c_Branch_0_a_1x1_conv')\n",
      "(40, 'Mixed_3c_Branch_1_b_3x3_conv')\n",
      "(41, 'Mixed_3c_Branch_2_b_3x3_conv')\n",
      "(42, 'Mixed_3c_Branch_3_b_1x1_conv')\n",
      "(43, 'Mixed_3c_Branch_0_a_1x1_bn')\n",
      "(44, 'Mixed_3c_Branch_1_b_3x3_bn')\n",
      "(45, 'Mixed_3c_Branch_2_b_3x3_bn')\n",
      "(46, 'Mixed_3c_Branch_3_b_1x1_bn')\n",
      "(47, 'Mixed_3c_Branch_0_a_1x1_act')\n",
      "(48, 'Mixed_3c_Branch_1_b_3x3_act')\n",
      "(49, 'Mixed_3c_Branch_2_b_3x3_act')\n",
      "(50, 'Mixed_3c_Branch_3_b_1x1_act')\n",
      "(51, 'Mixed_3c_Concatenated')\n",
      "(52, 'MaxPool_4a_3x3')\n",
      "(53, 'Mixed_4b_Branch_1_a_1x1_conv')\n",
      "(54, 'Mixed_4b_Branch_2_a_1x1_conv')\n",
      "(55, 'Mixed_4b_Branch_1_a_1x1_bn')\n",
      "(56, 'Mixed_4b_Branch_2_a_1x1_bn')\n",
      "(57, 'Mixed_4b_Branch_1_a_1x1_act')\n",
      "(58, 'Mixed_4b_Branch_2_a_1x1_act')\n",
      "(59, 'Mixed_4b_Branch_3_a_max')\n",
      "(60, 'Mixed_4b_Branch_0_a_1x1_conv')\n",
      "(61, 'Mixed_4b_Branch_1_b_3x3_conv')\n",
      "(62, 'Mixed_4b_Branch_2_b_3x3_conv')\n",
      "(63, 'Mixed_4b_Branch_3_b_1x1_conv')\n",
      "(64, 'Mixed_4b_Branch_0_a_1x1_bn')\n",
      "(65, 'Mixed_4b_Branch_1_b_3x3_bn')\n",
      "(66, 'Mixed_4b_Branch_2_b_3x3_bn')\n",
      "(67, 'Mixed_4b_Branch_3_b_1x1_bn')\n",
      "(68, 'Mixed_4b_Branch_0_a_1x1_act')\n",
      "(69, 'Mixed_4b_Branch_1_b_3x3_act')\n",
      "(70, 'Mixed_4b_Branch_2_b_3x3_act')\n",
      "(71, 'Mixed_4b_Branch_3_b_1x1_act')\n",
      "(72, 'Mixed_4b_Concatenated')\n",
      "(73, 'Mixed_4c_Branch_1_a_1x1_conv')\n",
      "(74, 'Mixed_4c_Branch_2_a_1x1_conv')\n",
      "(75, 'Mixed_4c_Branch_1_a_1x1_bn')\n",
      "(76, 'Mixed_4c_Branch_2_a_1x1_bn')\n",
      "(77, 'Mixed_4c_Branch_1_a_1x1_act')\n",
      "(78, 'Mixed_4c_Branch_2_a_1x1_act')\n",
      "(79, 'Mixed_4c_Branch_3_a_max')\n",
      "(80, 'Mixed_4c_Branch_0_a_1x1_conv')\n",
      "(81, 'Mixed_4c_Branch_1_b_3x3_conv')\n",
      "(82, 'Mixed_4c_Branch_2_b_3x3_conv')\n",
      "(83, 'Mixed_4c_Branch_3_b_1x1_conv')\n",
      "(84, 'Mixed_4c_Branch_0_a_1x1_bn')\n",
      "(85, 'Mixed_4c_Branch_1_b_3x3_bn')\n",
      "(86, 'Mixed_4c_Branch_2_b_3x3_bn')\n",
      "(87, 'Mixed_4c_Branch_3_b_1x1_bn')\n",
      "(88, 'Mixed_4c_Branch_0_a_1x1_act')\n",
      "(89, 'Mixed_4c_Branch_1_b_3x3_act')\n",
      "(90, 'Mixed_4c_Branch_2_b_3x3_act')\n",
      "(91, 'Mixed_4c_Branch_3_b_1x1_act')\n",
      "(92, 'Mixed_4c_Concatenated')\n",
      "(93, 'Mixed_4d_Branch_1_a_1x1_conv')\n",
      "(94, 'Mixed_4d_Branch_2_a_1x1_conv')\n",
      "(95, 'Mixed_4d_Branch_1_a_1x1_bn')\n",
      "(96, 'Mixed_4d_Branch_2_a_1x1_bn')\n",
      "(97, 'Mixed_4d_Branch_1_a_1x1_act')\n",
      "(98, 'Mixed_4d_Branch_2_a_1x1_act')\n",
      "(99, 'Mixed_4d_Branch_3_a_max')\n",
      "(100, 'Mixed_4d_Branch_0_a_1x1_conv')\n",
      "(101, 'Mixed_4d_Branch_1_b_3x3_conv')\n",
      "(102, 'Mixed_4d_Branch_2_b_3x3_conv')\n",
      "(103, 'Mixed_4d_Branch_3_b_1x1_conv')\n",
      "(104, 'Mixed_4d_Branch_0_a_1x1_bn')\n",
      "(105, 'Mixed_4d_Branch_1_b_3x3_bn')\n",
      "(106, 'Mixed_4d_Branch_2_b_3x3_bn')\n",
      "(107, 'Mixed_4d_Branch_3_b_1x1_bn')\n",
      "(108, 'Mixed_4d_Branch_0_a_1x1_act')\n",
      "(109, 'Mixed_4d_Branch_1_b_3x3_act')\n",
      "(110, 'Mixed_4d_Branch_2_b_3x3_act')\n",
      "(111, 'Mixed_4d_Branch_3_b_1x1_act')\n",
      "(112, 'Mixed_4d_Concatenated')\n",
      "(113, 'Mixed_4e_Branch_1_a_1x1_conv')\n",
      "(114, 'Mixed_4e_Branch_2_a_1x1_conv')\n",
      "(115, 'Mixed_4e_Branch_1_a_1x1_bn')\n",
      "(116, 'Mixed_4e_Branch_2_a_1x1_bn')\n",
      "(117, 'Mixed_4e_Branch_1_a_1x1_act')\n",
      "(118, 'Mixed_4e_Branch_2_a_1x1_act')\n",
      "(119, 'Mixed_4e_Branch_3_a_max')\n",
      "(120, 'Mixed_4e_Branch_0_a_1x1_conv')\n",
      "(121, 'Mixed_4e_Branch_1_b_3x3_conv')\n",
      "(122, 'Mixed_4e_Branch_2_b_3x3_conv')\n",
      "(123, 'Mixed_4e_Branch_3_b_1x1_conv')\n",
      "(124, 'Mixed_4e_Branch_0_a_1x1_bn')\n",
      "(125, 'Mixed_4e_Branch_1_b_3x3_bn')\n",
      "(126, 'Mixed_4e_Branch_2_b_3x3_bn')\n",
      "(127, 'Mixed_4e_Branch_3_b_1x1_bn')\n",
      "(128, 'Mixed_4e_Branch_0_a_1x1_act')\n",
      "(129, 'Mixed_4e_Branch_1_b_3x3_act')\n",
      "(130, 'Mixed_4e_Branch_2_b_3x3_act')\n",
      "(131, 'Mixed_4e_Branch_3_b_1x1_act')\n",
      "(132, 'Mixed_4e_Concatenated')\n",
      "(133, 'Mixed_4f_Branch_1_a_1x1_conv')\n",
      "(134, 'Mixed_4f_Branch_2_a_1x1_conv')\n",
      "(135, 'Mixed_4f_Branch_1_a_1x1_bn')\n",
      "(136, 'Mixed_4f_Branch_2_a_1x1_bn')\n",
      "(137, 'Mixed_4f_Branch_1_a_1x1_act')\n",
      "(138, 'Mixed_4f_Branch_2_a_1x1_act')\n",
      "(139, 'Mixed_4f_Branch_3_a_max')\n",
      "(140, 'Mixed_4f_Branch_0_a_1x1_conv')\n",
      "(141, 'Mixed_4f_Branch_1_b_3x3_conv')\n",
      "(142, 'Mixed_4f_Branch_2_b_3x3_conv')\n",
      "(143, 'Mixed_4f_Branch_3_b_1x1_conv')\n",
      "(144, 'Mixed_4f_Branch_0_a_1x1_bn')\n",
      "(145, 'Mixed_4f_Branch_1_b_3x3_bn')\n",
      "(146, 'Mixed_4f_Branch_2_b_3x3_bn')\n",
      "(147, 'Mixed_4f_Branch_3_b_1x1_bn')\n",
      "(148, 'Mixed_4f_Branch_0_a_1x1_act')\n",
      "(149, 'Mixed_4f_Branch_1_b_3x3_act')\n",
      "(150, 'Mixed_4f_Branch_2_b_3x3_act')\n",
      "(151, 'Mixed_4f_Branch_3_b_1x1_act')\n",
      "(152, 'Mixed_4f_Concatenated')\n",
      "(153, 'MaxPool_5a_2x2')\n",
      "(154, 'Mixed_5b_Branch_1_a_1x1_conv')\n",
      "(155, 'Mixed_5b_Branch_2_a_1x1_conv')\n",
      "(156, 'Mixed_5b_Branch_1_a_1x1_bn')\n",
      "(157, 'Mixed_5b_Branch_2_a_1x1_bn')\n",
      "(158, 'Mixed_5b_Branch_1_a_1x1_act')\n",
      "(159, 'Mixed_5b_Branch_2_a_1x1_act')\n",
      "(160, 'Mixed_5b_Branch_3_a_max')\n",
      "(161, 'Mixed_5b_Branch_0_a_1x1_conv')\n",
      "(162, 'Mixed_5b_Branch_1_b_3x3_conv')\n",
      "(163, 'Mixed_5b_Branch_2_b_3x3_conv')\n",
      "(164, 'Mixed_5b_Branch_3_b_1x1_conv')\n",
      "(165, 'Mixed_5b_Branch_0_a_1x1_bn')\n",
      "(166, 'Mixed_5b_Branch_1_b_3x3_bn')\n",
      "(167, 'Mixed_5b_Branch_2_b_3x3_bn')\n",
      "(168, 'Mixed_5b_Branch_3_b_1x1_bn')\n",
      "(169, 'Mixed_5b_Branch_0_a_1x1_act')\n",
      "(170, 'Mixed_5b_Branch_1_b_3x3_act')\n",
      "(171, 'Mixed_5b_Branch_2_b_3x3_act')\n",
      "(172, 'Mixed_5b_Branch_3_b_1x1_act')\n",
      "(173, 'Mixed_5b_Concatenated')\n",
      "(174, 'Mixed_5c_Branch_1_a_1x1_conv')\n",
      "(175, 'Mixed_5c_Branch_2_a_1x1_conv')\n",
      "(176, 'Mixed_5c_Branch_1_a_1x1_bn')\n",
      "(177, 'Mixed_5c_Branch_2_a_1x1_bn')\n",
      "(178, 'Mixed_5c_Branch_1_a_1x1_act')\n",
      "(179, 'Mixed_5c_Branch_2_a_1x1_act')\n",
      "(180, 'Mixed_5c_Branch_3_a_max')\n",
      "(181, 'Mixed_5c_Branch_0_a_1x1_conv')\n",
      "(182, 'Mixed_5c_Branch_1_b_3x3_conv')\n",
      "(183, 'Mixed_5c_Branch_2_b_3x3_conv')\n",
      "(184, 'Mixed_5c_Branch_3_b_1x1_conv')\n",
      "(185, 'Mixed_5c_Branch_0_a_1x1_bn')\n",
      "(186, 'Mixed_5c_Branch_1_b_3x3_bn')\n",
      "(187, 'Mixed_5c_Branch_2_b_3x3_bn')\n",
      "(188, 'Mixed_5c_Branch_3_b_1x1_bn')\n",
      "(189, 'Mixed_5c_Branch_0_a_1x1_act')\n",
      "(190, 'Mixed_5c_Branch_1_b_3x3_act')\n",
      "(191, 'Mixed_5c_Branch_2_b_3x3_act')\n",
      "(192, 'Mixed_5c_Branch_3_b_1x1_act')\n",
      "(193, 'Mixed_5c_Concatenated')\n",
      "(194, 'average_pooling2d_1')\n",
      "(195, 'dropout_1')\n",
      "(196, 'Logits')\n",
      "(197, 'Logits_flat')\n",
      "(198, 'Predictions')\n"
     ]
    }
   ],
   "source": [
    "# let's visualize layer names and layer indices to see how many layers\n",
    "# we should freeze:\n",
    "for i, layer in enumerate(model.layers):\n",
    "    print(i, layer.name)"
   ]
  },
  {
   "cell_type": "code",
   "execution_count": 26,
   "metadata": {},
   "outputs": [
    {
     "data": {
      "text/plain": [
       "'Mixed_5c_Branch_2_b_3x3_act'"
      ]
     },
     "execution_count": 26,
     "metadata": {},
     "output_type": "execute_result"
    }
   ],
   "source": [
    "model.layers[-8].name"
   ]
  },
  {
   "cell_type": "code",
   "execution_count": 21,
   "metadata": {},
   "outputs": [],
   "source": [
    "# we will freeze all layers\n",
    "for i in range(len(model.layers)):\n",
    "    model.layers[i].trainable=False"
   ]
  },
  {
   "cell_type": "markdown",
   "metadata": {},
   "source": [
    "## Fine-Tuning for Coarse Classifier"
   ]
  },
  {
   "cell_type": "code",
   "execution_count": 22,
   "metadata": {},
   "outputs": [],
   "source": [
    "y_train_c = np.dot(y_train,fine2coarse)\n",
    "y_val_c = np.dot(y_val,fine2coarse)"
   ]
  },
  {
   "cell_type": "code",
   "execution_count": 23,
   "metadata": {},
   "outputs": [
    {
     "ename": "ValueError",
     "evalue": "Layer weight shape (1, 1, 832, 48) not compatible with provided weight shape (1, 1, 832, 192)",
     "output_type": "error",
     "traceback": [
      "\u001b[0;31m---------------------------------------------------------------------------\u001b[0m",
      "\u001b[0;31mValueError\u001b[0m                                Traceback (most recent call last)",
      "\u001b[0;32m<ipython-input-23-1e121886a202>\u001b[0m in \u001b[0;36m<module>\u001b[0;34m()\u001b[0m\n\u001b[1;32m     12\u001b[0m \u001b[0;34m\u001b[0m\u001b[0m\n\u001b[1;32m     13\u001b[0m \u001b[0;32mfor\u001b[0m \u001b[0mi\u001b[0m \u001b[0;32min\u001b[0m \u001b[0mrange\u001b[0m\u001b[0;34m(\u001b[0m\u001b[0mlen\u001b[0m\u001b[0;34m(\u001b[0m\u001b[0mmodel_c\u001b[0m\u001b[0;34m.\u001b[0m\u001b[0mlayers\u001b[0m\u001b[0;34m)\u001b[0m\u001b[0;34m-\u001b[0m\u001b[0;36m1\u001b[0m\u001b[0;34m)\u001b[0m\u001b[0;34m:\u001b[0m\u001b[0;34m\u001b[0m\u001b[0m\n\u001b[0;32m---> 14\u001b[0;31m     \u001b[0mmodel_c\u001b[0m\u001b[0;34m.\u001b[0m\u001b[0mlayers\u001b[0m\u001b[0;34m[\u001b[0m\u001b[0mi\u001b[0m\u001b[0;34m]\u001b[0m\u001b[0;34m.\u001b[0m\u001b[0mset_weights\u001b[0m\u001b[0;34m(\u001b[0m\u001b[0mmodel\u001b[0m\u001b[0;34m.\u001b[0m\u001b[0mlayers\u001b[0m\u001b[0;34m[\u001b[0m\u001b[0mi\u001b[0m\u001b[0;34m]\u001b[0m\u001b[0;34m.\u001b[0m\u001b[0mget_weights\u001b[0m\u001b[0;34m(\u001b[0m\u001b[0;34m)\u001b[0m\u001b[0;34m)\u001b[0m\u001b[0;34m\u001b[0m\u001b[0m\n\u001b[0m",
      "\u001b[0;32m/usr/local/lib/python2.7/dist-packages/keras/engine/topology.pyc\u001b[0m in \u001b[0;36mset_weights\u001b[0;34m(self, weights)\u001b[0m\n\u001b[1;32m   1217\u001b[0m                                  \u001b[0mstr\u001b[0m\u001b[0;34m(\u001b[0m\u001b[0mpv\u001b[0m\u001b[0;34m.\u001b[0m\u001b[0mshape\u001b[0m\u001b[0;34m)\u001b[0m \u001b[0;34m+\u001b[0m\u001b[0;34m\u001b[0m\u001b[0m\n\u001b[1;32m   1218\u001b[0m                                  \u001b[0;34m' not compatible with '\u001b[0m\u001b[0;34m\u001b[0m\u001b[0m\n\u001b[0;32m-> 1219\u001b[0;31m                                  'provided weight shape ' + str(w.shape))\n\u001b[0m\u001b[1;32m   1220\u001b[0m             \u001b[0mweight_value_tuples\u001b[0m\u001b[0;34m.\u001b[0m\u001b[0mappend\u001b[0m\u001b[0;34m(\u001b[0m\u001b[0;34m(\u001b[0m\u001b[0mp\u001b[0m\u001b[0;34m,\u001b[0m \u001b[0mw\u001b[0m\u001b[0;34m)\u001b[0m\u001b[0;34m)\u001b[0m\u001b[0;34m\u001b[0m\u001b[0m\n\u001b[1;32m   1221\u001b[0m         \u001b[0mK\u001b[0m\u001b[0;34m.\u001b[0m\u001b[0mbatch_set_value\u001b[0m\u001b[0;34m(\u001b[0m\u001b[0mweight_value_tuples\u001b[0m\u001b[0;34m)\u001b[0m\u001b[0;34m\u001b[0m\u001b[0m\n",
      "\u001b[0;31mValueError\u001b[0m: Layer weight shape (1, 1, 832, 48) not compatible with provided weight shape (1, 1, 832, 192)"
     ]
    }
   ],
   "source": [
    "# NiN\n",
    "# net = Conv2D(1024, 1, strides=1, padding='same', activation='elu')(model.layers[-8].output)\n",
    "# Inception\n",
    "net = Conv2D(1024, 1, strides=1, padding='same', activation='elu')(model.layers[-6].output)\n",
    "net = Conv2D(1152, 2, strides=1, padding='same', activation='elu')(net)\n",
    "net = Dropout(.6)(net)\n",
    "net = MaxPooling2D((2, 2), padding='same')(net)\n",
    "\n",
    "net = Flatten()(net)\n",
    "net = Dense(1152, activation='elu')(net)\n",
    "out_coarse = Dense(20, activation='softmax')(net)\n",
    "\n",
    "model_c = Model(inputs=in_layer,outputs=out_coarse)\n",
    "model_c.compile(optimizer= sgd_coarse, loss='categorical_crossentropy', metrics=['accuracy'])\n",
    "\n",
    "for i in range(len(model_c.layers)-1):\n",
    "    model_c.layers[i].set_weights(model.layers[i].get_weights())"
   ]
  },
  {
   "cell_type": "code",
   "execution_count": 24,
   "metadata": {},
   "outputs": [
    {
     "data": {
      "text/plain": [
       "174"
      ]
     },
     "execution_count": 24,
     "metadata": {},
     "output_type": "execute_result"
    }
   ],
   "source": []
  },
  {
   "cell_type": "code",
   "execution_count": null,
   "metadata": {},
   "outputs": [],
   "source": []
  },
  {
   "cell_type": "code",
   "execution_count": null,
   "metadata": {},
   "outputs": [],
   "source": [
    "index = 30\n",
    "step = 10\n",
    "stop = 40\n",
    "\n",
    "while index < stop:\n",
    "    history = model_c.fit(x_train, y_train_c, batch_size=batch, initial_epoch=index, epochs=index+step, validation_data=(x_val, y_val_c), callbacks=[tbCallBack])\n",
    "    index += step"
   ]
  },
  {
   "cell_type": "code",
   "execution_count": null,
   "metadata": {},
   "outputs": [],
   "source": [
    "train_histo_vis(history)"
   ]
  },
  {
   "cell_type": "code",
   "execution_count": null,
   "metadata": {},
   "outputs": [],
   "source": [
    "model_c.compile(optimizer=sgd_fine, loss='categorical_crossentropy', metrics=['accuracy'])\n",
    "stop = 50\n",
    "\n",
    "while index < stop:\n",
    "    history = model_c.fit(x_train, y_train_c, batch_size=batch, initial_epoch=index, epochs=index+step, validation_data=(x_val, y_val_c), callbacks=[tbCallBack])\n",
    "    index += step"
   ]
  },
  {
   "cell_type": "code",
   "execution_count": null,
   "metadata": {},
   "outputs": [],
   "source": [
    "train_histo_vis(history)"
   ]
  },
  {
   "cell_type": "markdown",
   "metadata": {},
   "source": [
    "## Fine-Tuning for Fine Classifiers"
   ]
  },
  {
   "cell_type": "markdown",
   "metadata": {},
   "source": [
    "### Construct Fine Classifiers"
   ]
  },
  {
   "cell_type": "code",
   "execution_count": null,
   "metadata": {},
   "outputs": [],
   "source": [
    "def fine_model():\n",
    "    net = Conv2D(1024, 1, strides=1, padding='same', activation='elu')(model.layers[-8].output)\n",
    "    net = Conv2D(1152, 2, strides=1, padding='same', activation='elu')(net)\n",
    "    net = Dropout(.6)(net)\n",
    "    net = MaxPooling2D((2, 2), padding='same')(net)\n",
    "\n",
    "    net = Flatten()(net)\n",
    "    net = Dense(1152, activation='elu')(net)\n",
    "    out_fine = Dense(100, activation='softmax')(net)\n",
    "    model_fine = Model(inputs=in_layer,outputs=out_fine)\n",
    "    model_fine.compile(optimizer= sgd_coarse,\n",
    "              loss='categorical_crossentropy',\n",
    "              metrics=['accuracy'])\n",
    "    \n",
    "    for i in range(len(model_fine.layers)-1):\n",
    "        model_fine.layers[i].set_weights(model.layers[i].get_weights())\n",
    "    return model_fine"
   ]
  },
  {
   "cell_type": "code",
   "execution_count": null,
   "metadata": {},
   "outputs": [],
   "source": [
    "fine_models = {'models' : [{} for i in range(coarse_categories)], 'yhf' : [{} for i in range(coarse_categories)]}\n",
    "for i in range(coarse_categories):\n",
    "    model_i = fine_model()\n",
    "    fine_models['models'][i] = model_i"
   ]
  },
  {
   "cell_type": "markdown",
   "metadata": {},
   "source": [
    "### Train Fine Classifiers on Respective Data"
   ]
  },
  {
   "cell_type": "code",
   "execution_count": null,
   "metadata": {},
   "outputs": [],
   "source": [
    "def get_error(y,yh):\n",
    "    # Threshold \n",
    "    yht = np.zeros(np.shape(yh))\n",
    "    yht[np.arange(len(yh)), yh.argmax(1)] = 1\n",
    "    # Evaluate Error\n",
    "    error = np.count_nonzero(np.count_nonzero(y-yht,1))/len(y)\n",
    "    return error"
   ]
  },
  {
   "cell_type": "code",
   "execution_count": null,
   "metadata": {},
   "outputs": [],
   "source": [
    "for i in range(coarse_categories):\n",
    "    index= 0\n",
    "    step = 5\n",
    "    stop = 5\n",
    "    \n",
    "    # Get all training data for the coarse category\n",
    "    ix = np.where([(y_train[:,j]==1) for j in [k for k, e in enumerate(fine2coarse[:,i]) if e != 0]])[1]\n",
    "    x_tix = x_train[ix]\n",
    "    y_tix = y_train[ix]\n",
    "    \n",
    "    # Get all validation data for the coarse category\n",
    "    ix_v = np.where([(y_val[:,j]==1) for j in [k for k, e in enumerate(fine2coarse[:,i]) if e != 0]])[1]\n",
    "    x_vix = x_val[ix_v]\n",
    "    y_vix = y_val[ix_v]\n",
    "    \n",
    "    while index < stop:\n",
    "        fine_models['models'][i].fit(x_tix, y_tix, batch_size=batch, initial_epoch=index, epochs=index+step, validation_data=(x_vix, y_vix))\n",
    "        index += step\n",
    "    \n",
    "    fine_models['models'][i].compile(optimizer=sgd_fine, loss='categorical_crossentropy', metrics=['accuracy'])\n",
    "    stop = 10\n",
    "\n",
    "    while index < stop:\n",
    "        fine_models['models'][i].fit(x_tix, y_tix, batch_size=batch, initial_epoch=index, epochs=index+step, validation_data=(x_vix, y_vix))\n",
    "        index += step\n",
    "        \n",
    "    yh_f = fine_models['models'][i].predict(x_val[ix_v], batch_size=batch)\n",
    "    print('Fine Classifier '+str(i)+' Error: '+str(get_error(y_val[ix_v],yh_f))) "
   ]
  },
  {
   "cell_type": "markdown",
   "metadata": {
    "collapsed": true
   },
   "source": [
    "## Probabilistic Averaging"
   ]
  },
  {
   "cell_type": "markdown",
   "metadata": {},
   "source": [
    "def eval_hdcnn(X, y):\n",
    "    yh = np.zeros(np.shape(y))\n",
    "    \n",
    "    yh_s = model.predict(X, batch_size=batch)\n",
    "    \n",
    "    print('Single Classifier Error: '+str(get_error(y,yh_s)))\n",
    "    \n",
    "    yh_c = model_c.predict(X, batch_size=batch)\n",
    "    y_c = np.dot(y,fine2coarse)\n",
    "    \n",
    "    print('Coarse Classifier Error: '+str(get_error(y_c,yh_c)))\n",
    "\n",
    "    for i in range(coarse_categories):\n",
    "        if i%5 == 0:\n",
    "            print(\"Evaluating Fine Classifier: \", str(i))\n",
    "        #fine_models['yhf'][i] = fine_models['models'][i].predict(X, batch_size=batch)\n",
    "        yh += np.multiply(yh_c[:,i].reshape((len(y)),1), fine_models['yhf'][i])\n",
    "    \n",
    "    print('Overall Error: '+str(get_error(y,yh)))\n",
    "    return yh"
   ]
  },
  {
   "cell_type": "markdown",
   "metadata": {},
   "source": [
    "yh = eval_hdcnn(x_val,y_val)"
   ]
  },
  {
   "cell_type": "code",
   "execution_count": null,
   "metadata": {},
   "outputs": [],
   "source": [
    "X = x_val; y = y_val\n",
    "\n",
    "yh = np.zeros(np.shape(y))\n",
    "\n",
    "yh_s = model.predict(X, batch_size=batch)\n",
    "\n",
    "print('Single Classifier Error: '+str(get_error(y,yh_s)))\n",
    "\n",
    "yh_c = model_c.predict(X, batch_size=batch)\n",
    "y_c = np.dot(y,fine2coarse)\n",
    "\n",
    "print('Coarse Classifier Error: '+str(get_error(y_c,yh_c)))\n",
    "\n",
    "for i in range(coarse_categories):\n",
    "    if i%5 == 0:\n",
    "        print(\"Evaluating Fine Classifier: \"+ str(i))\n",
    "    fine_models['yhf'][i] = fine_models['models'][i].predict(X, batch_size=batch)\n",
    "    yh += np.multiply(yh_c[:,i].reshape((len(y)),1), fine_models['yhf'][i])\n",
    "\n",
    "print('Overall Error: '+str(get_error(y,yh)))"
   ]
  },
  {
   "cell_type": "code",
   "execution_count": null,
   "metadata": {},
   "outputs": [],
   "source": [
    "# Get error function: Debug\n",
    "yht = np.zeros(np.shape(yh))\n",
    "yht[np.arange(len(yh)), yh.argmax(1)] = 1\n",
    "# Evaluate Error\n",
    "error = np.count_nonzero(np.count_nonzero(y-yht,1))/len(y)\n",
    "error"
   ]
  },
  {
   "cell_type": "code",
   "execution_count": null,
   "metadata": {},
   "outputs": [],
   "source": [
    "y"
   ]
  },
  {
   "cell_type": "code",
   "execution_count": null,
   "metadata": {},
   "outputs": [],
   "source": []
  },
  {
   "cell_type": "code",
   "execution_count": null,
   "metadata": {},
   "outputs": [],
   "source": []
  }
 ],
 "metadata": {
  "kernelspec": {
   "display_name": "Python 2",
   "language": "python",
   "name": "python2"
  },
  "language_info": {
   "codemirror_mode": {
    "name": "ipython",
    "version": 2
   },
   "file_extension": ".py",
   "mimetype": "text/x-python",
   "name": "python",
   "nbconvert_exporter": "python",
   "pygments_lexer": "ipython2",
   "version": "2.7.12"
  },
  "toc": {
   "colors": {
    "hover_highlight": "#DAA520",
    "running_highlight": "#FF0000",
    "selected_highlight": "#FFD700"
   },
   "moveMenuLeft": true,
   "nav_menu": {
    "height": "12px",
    "width": "252px"
   },
   "navigate_menu": true,
   "number_sections": true,
   "sideBar": true,
   "threshold": 4,
   "toc_cell": false,
   "toc_section_display": "block",
   "toc_window_display": false,
   "widenNotebook": false
  }
 },
 "nbformat": 4,
 "nbformat_minor": 2
}
